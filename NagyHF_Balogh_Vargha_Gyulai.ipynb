{
 "cells": [
  {
   "cell_type": "markdown",
   "metadata": {},
   "source": [
    "# Project work \n",
    "## Balogh Nóra, Gyulai László, Vargha Noémi"
   ]
  },
  {
   "cell_type": "markdown",
   "metadata": {},
   "source": [
    "In this project we have implemented 2 dimensional Ising model with Monte-Carlo simulation. We aimed to train neural networks based on the simulation results. \n",
    "The main parts of our work:\n",
    "1. Implementing Monte-Carlo simulation code for the Ising model\n",
    "2. Generating training data\n",
    "3. Neural Network learns to calculate energy and magnetization\n",
    "4. Neural Network learns to calculate coupling strength"
   ]
  },
  {
   "cell_type": "markdown",
   "metadata": {
    "colab_type": "text",
    "id": "7qv6ca0WfX6H"
   },
   "source": [
    "Ideas:\n",
    "\n",
    "https://arxiv.org/pdf/1706.09779.pdf\n"
   ]
  },
  {
   "cell_type": "code",
   "execution_count": 1,
   "metadata": {
    "colab": {},
    "colab_type": "code",
    "id": "qoBa55hQJTpt"
   },
   "outputs": [],
   "source": [
    "import numpy as np\n",
    "import pandas as pd\n",
    "import matplotlib.pyplot as plt\n",
    "import csv\n",
    "from numpy.random import rand\n",
    "from numpy.random import randint"
   ]
  },
  {
   "cell_type": "code",
   "execution_count": 2,
   "metadata": {},
   "outputs": [],
   "source": [
    "import random"
   ]
  },
  {
   "cell_type": "code",
   "execution_count": 3,
   "metadata": {},
   "outputs": [
    {
     "name": "stderr",
     "output_type": "stream",
     "text": [
      "Using TensorFlow backend.\n"
     ]
    }
   ],
   "source": [
    "from sklearn.model_selection import train_test_split\n",
    "from keras.models import Sequential\n",
    "from keras.layers.core import Dense\n",
    "from keras.optimizers import SGD, Adam\n",
    "from sklearn.preprocessing import MinMaxScaler"
   ]
  },
  {
   "cell_type": "code",
   "execution_count": 4,
   "metadata": {},
   "outputs": [],
   "source": [
    "from sklearn.metrics import mean_squared_error"
   ]
  },
  {
   "cell_type": "markdown",
   "metadata": {
    "colab_type": "text",
    "id": "ZTl2-2RKSfm6"
   },
   "source": [
    "# 1. Monte-Carlo simulation code for the Ising model\n"
   ]
  },
  {
   "cell_type": "markdown",
   "metadata": {
    "colab_type": "text",
    "id": "p2d2NEVtSmEW"
   },
   "source": [
    "We used a square lattice od size LxL=10x10. Each cell in the square lattice has spin $\\sigma_i=\\pm 1$ which is initialized randomly. The Hamiltonian of the system is:\n",
    "\n",
    "$$ H=-K\\sum_{\\langle i\\mathrm{,}j \\rangle} \\sigma_i \\sigma_J - h\\sum_{i}\\sigma_i$$\n",
    "where the summation runs over the nearest neighbors, $K$ is coupling strength between the nearest neighbors and $h$ is the external field."
   ]
  },
  {
   "cell_type": "markdown",
   "metadata": {
    "colab_type": "text",
    "id": "dFT3jjyDStN_"
   },
   "source": [
    "assiged each lattice cell a random spin of $\\pm 1$ with the function below:"
   ]
  },
  {
   "cell_type": "markdown",
   "metadata": {
    "colab": {},
    "colab_type": "code",
    "id": "g0O5SC8tJRMZ"
   },
   "source": [
    "Parameters of the 2D Ising model: \n",
    "* hi: interaction with external field\n",
    "* Kij: interactions between neighbours"
   ]
  },
  {
   "cell_type": "code",
   "execution_count": 5,
   "metadata": {
    "colab": {},
    "colab_type": "code",
    "id": "28fAGGEnKJat"
   },
   "outputs": [],
   "source": [
    "def initialize(L):   \n",
    "    ''' generates a random spin (+1 or -1) configuration for initial condition'''\n",
    "    state = 2*np.random.randint(2, size=(L,L))-1\n",
    "    return state #square lattice, cells filled randomly with +1 or -1"
   ]
  },
  {
   "cell_type": "markdown",
   "metadata": {
    "colab_type": "text",
    "id": "xdGrBwzFSyfc"
   },
   "source": [
    "Magnetization is the average value of the spin. (Source: https://en.wikipedia.org/wiki/Ising_model). The energy of a configuration is calculated from the Hamiltonian."
   ]
  },
  {
   "cell_type": "code",
   "execution_count": 6,
   "metadata": {
    "colab": {},
    "colab_type": "code",
    "id": "EjFP3RE7SVH4"
   },
   "outputs": [],
   "source": [
    "def magnetization(config):\n",
    "    '''Magnetization of a given configuration'''\n",
    "    mag = np.sum(config)/(config.shape[0]*config.shape[1])\n",
    "    return mag\n",
    "\n",
    "def Energy(config, h, K):\n",
    "    '''Calculates energy of a given configuration'''\n",
    "    energy = 0\n",
    "    L=len(config)\n",
    "    for i in range(L):\n",
    "        for j in range(L):\n",
    "            S = config[i,j]\n",
    "            energy-=h*S\n",
    "            #neighbors with periodic boundary conditions\n",
    "            neighbors = config[(i+1)%L, j] + config[i,(j+1)%L] + config[(i-1)%L, j] + config[i,(j-1)%L] \n",
    "            energy -= K*neighbors*S\n",
    "    return energy"
   ]
  },
  {
   "cell_type": "markdown",
   "metadata": {
    "colab_type": "text",
    "id": "vTBgIHiUS32d"
   },
   "source": [
    "One Monte Carlo timestep consists of LxL elementary step in which a spin is chosen randomly and flipped according to the Metropolis probabilities. \n",
    "\n",
    "In each elementary step we randomly choose a lattice point with spin $s$. If the spin is flipped, the cost is $\\Delta E=E_{flipped}-E_{original}$. From the Hamiltonian:\n",
    "\n",
    "$$\\Delta E= 2hs-2Ks\\cdot nb$$\n",
    "\n",
    "where $nb$ is the sum of the spins of the nearest neighbors of s. The function \"mcmove\" below calculates this cost and flips the spin if $\\Delta E < 0$ and flips this spin with probability $p=\\exp(\\beta\\cdot\\Delta E)$ if $E>0$. ($\\beta=\\frac{1}{k_bT}$)"
   ]
  },
  {
   "cell_type": "code",
   "execution_count": 7,
   "metadata": {
    "colab": {},
    "colab_type": "code",
    "id": "PHj-h6pISXv9"
   },
   "outputs": [],
   "source": [
    "def mcmove(config, beta, h, K):\n",
    "    '''Monte Carlo move using Metropolis algorithm '''\n",
    "    L=len(config)\n",
    "    for i in range(L):\n",
    "        for j in range(L):\n",
    "                a = np.random.randint(0, L)\n",
    "                b = np.random.randint(0, L)\n",
    "                s =  config[a, b]\n",
    "                neighbors = config[(a+1)%L,b] + config[a,(b+1)%L] + config[(a-1)%L,b] + config[a,(b-1)%L]\n",
    "                #cost=difference between energies\n",
    "                cost = 2*h*s + 2*K*neighbors*s\n",
    "                if cost < 0:\n",
    "                    s *= -1\n",
    "                elif np.random.rand() < np.exp(-cost*beta):\n",
    "                    s *= -1\n",
    "                config[a, b] = s\n",
    "    return config"
   ]
  },
  {
   "cell_type": "markdown",
   "metadata": {
    "colab_type": "text",
    "id": "ks2guv5cTBx1"
   },
   "source": [
    "Use Monte carlo step as: config=mcmove(config, beta, h, K)"
   ]
  },
  {
   "cell_type": "markdown",
   "metadata": {
    "colab_type": "text",
    "id": "MdXA43BDTjlZ"
   },
   "source": [
    "# 2. Training data generation"
   ]
  },
  {
   "cell_type": "markdown",
   "metadata": {},
   "source": [
    "## 2.1 Generation of lattices for energy and magnetization prediction"
   ]
  },
  {
   "cell_type": "code",
   "execution_count": 8,
   "metadata": {
    "colab": {
     "base_uri": "https://localhost:8080/",
     "height": 129
    },
    "colab_type": "code",
    "id": "W6Jwrf4HVCq3",
    "outputId": "a5b3d795-ac88-45f8-da39-9ae019e7ce12"
   },
   "outputs": [],
   "source": [
    "K=1\n",
    "beta=0.2\n",
    "L=10\n",
    "h=5\n",
    "timesteps = 500\n",
    "iterations = 20\n",
    "config_data=[]\n",
    "\n",
    "\n",
    "for i in range(iterations):\n",
    "    config=initialize(L)\n",
    "    E,M=np.zeros(timesteps), np.zeros(timesteps)\n",
    "    M0=np.zeros(timesteps)\n",
    "    for t in range(timesteps):\n",
    "        E[t]=Energy(config, h, K)\n",
    "        M[t]=magnetization(config)\n",
    "        row1 = [E[t]]+[M[t]]+list(config.flatten())\n",
    "        config_data.append(row1)\n",
    "        config=mcmove(config, beta, h, K)"
   ]
  },
  {
   "cell_type": "code",
   "execution_count": 9,
   "metadata": {},
   "outputs": [
    {
     "data": {
      "text/plain": [
       "10000"
      ]
     },
     "execution_count": 9,
     "metadata": {},
     "output_type": "execute_result"
    }
   ],
   "source": [
    "len(config_data)"
   ]
  },
  {
   "cell_type": "markdown",
   "metadata": {},
   "source": [
    "We will store in a .csv file the following features of each generated lattice:\n",
    "* energy\n",
    "* magnetization\n",
    "* config: the lattice configuration (array of +1, -1 values)"
   ]
  },
  {
   "cell_type": "code",
   "execution_count": 10,
   "metadata": {
    "colab": {
     "base_uri": "https://localhost:8080/",
     "height": 54
    },
    "colab_type": "code",
    "id": "k5iEJOKFVVu-",
    "outputId": "0f2d04eb-20ab-42df-8d6c-5194c86e8a90"
   },
   "outputs": [],
   "source": [
    "with open('training_data.csv', 'w+', newline='') as writeFile:\n",
    "    writer = csv.writer(writeFile)\n",
    "    writer.writerows(config_data)\n",
    "writeFile.close()"
   ]
  },
  {
   "cell_type": "markdown",
   "metadata": {},
   "source": [
    "## 2.2. Training data generation for coupling strength prediction "
   ]
  },
  {
   "cell_type": "markdown",
   "metadata": {},
   "source": [
    "In each iteration we use different coupling strength and step 10 Monte-Carlo steps (timesteps) with it. Temperature and external field values are fixed."
   ]
  },
  {
   "cell_type": "code",
   "execution_count": 11,
   "metadata": {},
   "outputs": [],
   "source": [
    "K=1\n",
    "beta=0.2\n",
    "L=10\n",
    "h=5\n",
    "timesteps = 10\n",
    "iterations = 5000\n",
    "config_data=[]\n",
    "\n",
    "E,M=np.zeros(iterations), np.zeros(iterations)\n",
    "#Klist=[j/1000 for j in range(iterations)]\n",
    "for i in range(iterations):\n",
    "    K=np.random.normal()+1  # k is a random value between 0 and 2\n",
    "    config=initialize(L)\n",
    "    for t in range(timesteps):\n",
    "        config=mcmove(config, beta, h, K)\n",
    "    E[i]=Energy(config, h, K)\n",
    "    M[i]=magnetization(config)\n",
    "    row1 = [K]+[E[i]]+[M[i]]+list(config.flatten())\n",
    "    config_data.append(row1)"
   ]
  },
  {
   "cell_type": "code",
   "execution_count": 12,
   "metadata": {},
   "outputs": [
    {
     "data": {
      "text/plain": [
       "5000"
      ]
     },
     "execution_count": 12,
     "metadata": {},
     "output_type": "execute_result"
    }
   ],
   "source": [
    "len(config_data)"
   ]
  },
  {
   "cell_type": "code",
   "execution_count": 13,
   "metadata": {},
   "outputs": [],
   "source": [
    "with open('training_data2.csv', 'w+', newline='') as writeFile:\n",
    "    writer = csv.writer(writeFile)\n",
    "    writer.writerows(config_data)\n",
    "writeFile.close()"
   ]
  },
  {
   "cell_type": "markdown",
   "metadata": {},
   "source": [
    "# 3. Neural Network learns to calculate energy and magnetization"
   ]
  },
  {
   "cell_type": "markdown",
   "metadata": {},
   "source": [
    "## 3.1. Loading the data"
   ]
  },
  {
   "cell_type": "code",
   "execution_count": 14,
   "metadata": {},
   "outputs": [],
   "source": [
    "traindata = pd.read_csv(\"training_data.csv\", names=[\"E\"]+[\"M\"]+[i for i in range(L*L)])"
   ]
  },
  {
   "cell_type": "code",
   "execution_count": 15,
   "metadata": {},
   "outputs": [],
   "source": [
    "trainlabelsE=traindata[\"E\"].values\n",
    "trainlabelsM=traindata[\"M\"].values"
   ]
  },
  {
   "cell_type": "code",
   "execution_count": 16,
   "metadata": {},
   "outputs": [],
   "source": [
    "train_attrs=traindata.drop(columns=[\"E\", \"M\"])"
   ]
  },
  {
   "cell_type": "markdown",
   "metadata": {},
   "source": [
    "## 3.2. Magnetization prediction"
   ]
  },
  {
   "cell_type": "markdown",
   "metadata": {},
   "source": [
    "Normalization of training labels:"
   ]
  },
  {
   "cell_type": "code",
   "execution_count": 17,
   "metadata": {
    "scrolled": true
   },
   "outputs": [
    {
     "data": {
      "text/plain": [
       "1.0"
      ]
     },
     "execution_count": 17,
     "metadata": {},
     "output_type": "execute_result"
    }
   ],
   "source": [
    "max(trainlabelsM)"
   ]
  },
  {
   "cell_type": "code",
   "execution_count": 18,
   "metadata": {
    "scrolled": true
   },
   "outputs": [
    {
     "data": {
      "text/plain": [
       "-0.22"
      ]
     },
     "execution_count": 18,
     "metadata": {},
     "output_type": "execute_result"
    }
   ],
   "source": [
    "min(trainlabelsM)"
   ]
  },
  {
   "cell_type": "code",
   "execution_count": 19,
   "metadata": {
    "scrolled": true
   },
   "outputs": [
    {
     "data": {
      "text/plain": [
       "array([-0.04,  0.44,  0.72, ...,  0.92,  0.96,  0.92])"
      ]
     },
     "execution_count": 19,
     "metadata": {},
     "output_type": "execute_result"
    }
   ],
   "source": [
    "trainlabelsM"
   ]
  },
  {
   "cell_type": "code",
   "execution_count": 20,
   "metadata": {},
   "outputs": [],
   "source": [
    "#trainlabelsM=(trainlabelsM-(-1))/(1-(-1))\n",
    "trainlabelsM=(trainlabelsM-min(trainlabelsM))/(max(trainlabelsM)-min(trainlabelsM))"
   ]
  },
  {
   "cell_type": "markdown",
   "metadata": {},
   "source": [
    "Split train and test values:"
   ]
  },
  {
   "cell_type": "code",
   "execution_count": 21,
   "metadata": {},
   "outputs": [],
   "source": [
    "X_train, X_test, Y_train, Y_test = train_test_split(train_attrs, trainlabelsM, test_size=0.33, random_state=0)"
   ]
  },
  {
   "cell_type": "code",
   "execution_count": 22,
   "metadata": {
    "scrolled": false
   },
   "outputs": [
    {
     "data": {
      "text/plain": [
       "((6700, 100), (6700,), (3300, 100), (3300,))"
      ]
     },
     "execution_count": 22,
     "metadata": {},
     "output_type": "execute_result"
    }
   ],
   "source": [
    "X_train.shape, Y_train.shape, X_test.shape, Y_test.shape"
   ]
  },
  {
   "cell_type": "markdown",
   "metadata": {},
   "source": [
    "Definition of the model:"
   ]
  },
  {
   "cell_type": "code",
   "execution_count": 23,
   "metadata": {},
   "outputs": [
    {
     "name": "stdout",
     "output_type": "stream",
     "text": [
      "WARNING:tensorflow:From C:\\ProgramData\\Anaconda3\\lib\\site-packages\\tensorflow\\python\\framework\\op_def_library.py:263: colocate_with (from tensorflow.python.framework.ops) is deprecated and will be removed in a future version.\n",
      "Instructions for updating:\n",
      "Colocations handled automatically by placer.\n"
     ]
    }
   ],
   "source": [
    "model = Sequential()\n",
    "model.add(Dense(100, input_dim=100, activation='relu'))\n",
    "model.add(Dense(1, activation='relu'))"
   ]
  },
  {
   "cell_type": "code",
   "execution_count": 24,
   "metadata": {
    "scrolled": true
   },
   "outputs": [
    {
     "name": "stdout",
     "output_type": "stream",
     "text": [
      "_________________________________________________________________\n",
      "Layer (type)                 Output Shape              Param #   \n",
      "=================================================================\n",
      "dense_1 (Dense)              (None, 100)               10100     \n",
      "_________________________________________________________________\n",
      "dense_2 (Dense)              (None, 1)                 101       \n",
      "=================================================================\n",
      "Total params: 10,201\n",
      "Trainable params: 10,201\n",
      "Non-trainable params: 0\n",
      "_________________________________________________________________\n"
     ]
    }
   ],
   "source": [
    "model.summary()"
   ]
  },
  {
   "cell_type": "code",
   "execution_count": 25,
   "metadata": {},
   "outputs": [],
   "source": [
    "model.compile(loss='mean_squared_error', optimizer='adam')"
   ]
  },
  {
   "cell_type": "code",
   "execution_count": 26,
   "metadata": {
    "scrolled": false
   },
   "outputs": [
    {
     "name": "stdout",
     "output_type": "stream",
     "text": [
      "WARNING:tensorflow:From C:\\ProgramData\\Anaconda3\\lib\\site-packages\\tensorflow\\python\\ops\\math_ops.py:3066: to_int32 (from tensorflow.python.ops.math_ops) is deprecated and will be removed in a future version.\n",
      "Instructions for updating:\n",
      "Use tf.cast instead.\n",
      "Train on 6700 samples, validate on 3300 samples\n",
      "Epoch 1/100\n",
      "6700/6700 [==============================] - 0s 43us/step - loss: 0.0463 - val_loss: 0.0083\n",
      "Epoch 2/100\n",
      "6700/6700 [==============================] - 0s 21us/step - loss: 0.0039 - val_loss: 0.0020\n",
      "Epoch 3/100\n",
      "6700/6700 [==============================] - 0s 22us/step - loss: 0.0014 - val_loss: 0.0018\n",
      "Epoch 4/100\n",
      "6700/6700 [==============================] - 0s 21us/step - loss: 7.8930e-04 - val_loss: 8.3094e-04\n",
      "Epoch 5/100\n",
      "6700/6700 [==============================] - 0s 21us/step - loss: 5.0175e-04 - val_loss: 6.3748e-04\n",
      "Epoch 6/100\n",
      "6700/6700 [==============================] - 0s 22us/step - loss: 3.5736e-04 - val_loss: 0.0010\n",
      "Epoch 7/100\n",
      "6700/6700 [==============================] - 0s 22us/step - loss: 2.9739e-04 - val_loss: 5.2830e-04\n",
      "Epoch 8/100\n",
      "6700/6700 [==============================] - 0s 21us/step - loss: 3.0750e-04 - val_loss: 8.8820e-04\n",
      "Epoch 9/100\n",
      "6700/6700 [==============================] - 0s 21us/step - loss: 3.2129e-04 - val_loss: 3.5737e-04\n",
      "Epoch 10/100\n",
      "6700/6700 [==============================] - 0s 21us/step - loss: 2.7184e-04 - val_loss: 2.7840e-04\n",
      "Epoch 11/100\n",
      "6700/6700 [==============================] - 0s 21us/step - loss: 2.3572e-04 - val_loss: 3.6024e-04\n",
      "Epoch 12/100\n",
      "6700/6700 [==============================] - 0s 21us/step - loss: 3.4369e-04 - val_loss: 2.7300e-04\n",
      "Epoch 13/100\n",
      "6700/6700 [==============================] - 0s 21us/step - loss: 2.3496e-04 - val_loss: 2.7163e-04\n",
      "Epoch 14/100\n",
      "6700/6700 [==============================] - 0s 20us/step - loss: 2.9052e-04 - val_loss: 2.6775e-04\n",
      "Epoch 15/100\n",
      "6700/6700 [==============================] - 0s 20us/step - loss: 2.4227e-04 - val_loss: 3.2567e-04\n",
      "Epoch 16/100\n",
      "6700/6700 [==============================] - 0s 20us/step - loss: 2.2727e-04 - val_loss: 2.9877e-04\n",
      "Epoch 17/100\n",
      "6700/6700 [==============================] - 0s 20us/step - loss: 2.5215e-04 - val_loss: 3.4135e-04\n",
      "Epoch 18/100\n",
      "6700/6700 [==============================] - 0s 20us/step - loss: 2.8019e-04 - val_loss: 3.7209e-04\n",
      "Epoch 19/100\n",
      "6700/6700 [==============================] - 0s 21us/step - loss: 3.1938e-04 - val_loss: 9.5445e-04\n",
      "Epoch 20/100\n",
      "6700/6700 [==============================] - 0s 21us/step - loss: 4.5812e-04 - val_loss: 0.0035\n",
      "Epoch 21/100\n",
      "6700/6700 [==============================] - 0s 20us/step - loss: 4.5160e-04 - val_loss: 0.0010\n",
      "Epoch 22/100\n",
      "6700/6700 [==============================] - 0s 21us/step - loss: 3.8592e-04 - val_loss: 7.8077e-04\n",
      "Epoch 23/100\n",
      "6700/6700 [==============================] - 0s 21us/step - loss: 3.2499e-04 - val_loss: 2.8076e-04\n",
      "Epoch 24/100\n",
      "6700/6700 [==============================] - 0s 20us/step - loss: 1.8243e-04 - val_loss: 2.0966e-04\n",
      "Epoch 25/100\n",
      "6700/6700 [==============================] - 0s 21us/step - loss: 1.9117e-04 - val_loss: 2.1833e-04\n",
      "Epoch 26/100\n",
      "6700/6700 [==============================] - 0s 21us/step - loss: 2.4516e-04 - val_loss: 1.3320e-04\n",
      "Epoch 27/100\n",
      "6700/6700 [==============================] - 0s 21us/step - loss: 1.9525e-04 - val_loss: 1.2842e-04\n",
      "Epoch 28/100\n",
      "6700/6700 [==============================] - 0s 20us/step - loss: 2.7944e-04 - val_loss: 5.5456e-04\n",
      "Epoch 29/100\n",
      "6700/6700 [==============================] - 0s 23us/step - loss: 1.9831e-04 - val_loss: 1.2281e-04\n",
      "Epoch 30/100\n",
      "6700/6700 [==============================] - 0s 26us/step - loss: 3.0323e-04 - val_loss: 0.0010\n",
      "Epoch 31/100\n",
      "6700/6700 [==============================] - 0s 22us/step - loss: 6.8180e-04 - val_loss: 1.0396e-04\n",
      "Epoch 32/100\n",
      "6700/6700 [==============================] - 0s 21us/step - loss: 1.7372e-04 - val_loss: 1.1056e-04\n",
      "Epoch 33/100\n",
      "6700/6700 [==============================] - 0s 21us/step - loss: 1.4584e-04 - val_loss: 8.8586e-05\n",
      "Epoch 34/100\n",
      "6700/6700 [==============================] - 0s 21us/step - loss: 1.5432e-04 - val_loss: 2.1574e-04\n",
      "Epoch 35/100\n",
      "6700/6700 [==============================] - 0s 20us/step - loss: 2.9761e-04 - val_loss: 3.1065e-04\n",
      "Epoch 36/100\n",
      "6700/6700 [==============================] - 0s 21us/step - loss: 1.8416e-04 - val_loss: 8.4911e-05\n",
      "Epoch 37/100\n",
      "6700/6700 [==============================] - 0s 20us/step - loss: 1.8578e-04 - val_loss: 1.6141e-04\n",
      "Epoch 38/100\n",
      "6700/6700 [==============================] - 0s 20us/step - loss: 2.8653e-04 - val_loss: 1.0694e-04\n",
      "Epoch 39/100\n",
      "6700/6700 [==============================] - 0s 21us/step - loss: 1.6468e-04 - val_loss: 8.9866e-05\n",
      "Epoch 40/100\n",
      "6700/6700 [==============================] - 0s 21us/step - loss: 2.0375e-04 - val_loss: 2.1837e-04\n",
      "Epoch 41/100\n",
      "6700/6700 [==============================] - 0s 21us/step - loss: 1.6581e-04 - val_loss: 8.2248e-05\n",
      "Epoch 42/100\n",
      "6700/6700 [==============================] - 0s 21us/step - loss: 2.1573e-04 - val_loss: 3.7585e-04\n",
      "Epoch 43/100\n",
      "6700/6700 [==============================] - 0s 20us/step - loss: 1.4919e-04 - val_loss: 8.1330e-05\n",
      "Epoch 44/100\n",
      "6700/6700 [==============================] - 0s 20us/step - loss: 2.3774e-04 - val_loss: 4.7765e-04\n",
      "Epoch 45/100\n",
      "6700/6700 [==============================] - 0s 21us/step - loss: 2.0250e-04 - val_loss: 1.1913e-04\n",
      "Epoch 46/100\n",
      "6700/6700 [==============================] - 0s 21us/step - loss: 1.4944e-04 - val_loss: 6.2397e-04\n",
      "Epoch 47/100\n",
      "6700/6700 [==============================] - 0s 21us/step - loss: 9.1264e-04 - val_loss: 7.4391e-05\n",
      "Epoch 48/100\n",
      "6700/6700 [==============================] - 0s 21us/step - loss: 1.0002e-04 - val_loss: 9.8653e-05\n",
      "Epoch 49/100\n",
      "6700/6700 [==============================] - 0s 20us/step - loss: 9.7960e-05 - val_loss: 8.2893e-05\n",
      "Epoch 50/100\n",
      "6700/6700 [==============================] - 0s 21us/step - loss: 1.0362e-04 - val_loss: 7.7520e-05\n",
      "Epoch 51/100\n",
      "6700/6700 [==============================] - 0s 20us/step - loss: 1.1123e-04 - val_loss: 2.7200e-04\n",
      "Epoch 52/100\n",
      "6700/6700 [==============================] - 0s 20us/step - loss: 1.6272e-04 - val_loss: 7.5300e-05\n",
      "Epoch 53/100\n",
      "6700/6700 [==============================] - 0s 20us/step - loss: 1.6597e-04 - val_loss: 8.5988e-05\n",
      "Epoch 54/100\n",
      "6700/6700 [==============================] - 0s 20us/step - loss: 1.6370e-04 - val_loss: 7.7600e-05\n",
      "Epoch 55/100\n",
      "6700/6700 [==============================] - 0s 21us/step - loss: 1.6647e-04 - val_loss: 1.3906e-04\n",
      "Epoch 56/100\n",
      "6700/6700 [==============================] - 0s 25us/step - loss: 1.8304e-04 - val_loss: 2.1045e-04\n",
      "Epoch 57/100\n",
      "6700/6700 [==============================] - 0s 23us/step - loss: 1.7962e-04 - val_loss: 1.5767e-04\n",
      "Epoch 58/100\n",
      "6700/6700 [==============================] - 0s 22us/step - loss: 1.4457e-04 - val_loss: 7.4169e-05\n",
      "Epoch 59/100\n",
      "6700/6700 [==============================] - 0s 21us/step - loss: 1.6310e-04 - val_loss: 1.3674e-04\n",
      "Epoch 60/100\n",
      "6700/6700 [==============================] - 0s 20us/step - loss: 1.8363e-04 - val_loss: 1.8015e-04\n",
      "Epoch 61/100\n",
      "6700/6700 [==============================] - 0s 21us/step - loss: 1.8325e-04 - val_loss: 1.3435e-04\n",
      "Epoch 62/100\n",
      "6700/6700 [==============================] - 0s 20us/step - loss: 1.5545e-04 - val_loss: 1.3860e-04\n",
      "Epoch 63/100\n",
      "6700/6700 [==============================] - 0s 20us/step - loss: 1.1472e-04 - val_loss: 1.2414e-04\n",
      "Epoch 64/100\n",
      "6700/6700 [==============================] - 0s 21us/step - loss: 1.5042e-04 - val_loss: 7.2797e-05\n",
      "Epoch 65/100\n",
      "6700/6700 [==============================] - 0s 21us/step - loss: 1.4844e-04 - val_loss: 1.9304e-04\n",
      "Epoch 66/100\n",
      "6700/6700 [==============================] - 0s 20us/step - loss: 1.6275e-04 - val_loss: 6.9435e-05\n",
      "Epoch 67/100\n",
      "6700/6700 [==============================] - 0s 21us/step - loss: 1.4293e-04 - val_loss: 1.7793e-04\n",
      "Epoch 68/100\n",
      "6700/6700 [==============================] - 0s 21us/step - loss: 1.3565e-04 - val_loss: 7.3113e-05\n",
      "Epoch 69/100\n",
      "6700/6700 [==============================] - 0s 21us/step - loss: 1.6522e-04 - val_loss: 1.0222e-04\n",
      "Epoch 70/100\n",
      "6700/6700 [==============================] - 0s 22us/step - loss: 1.8436e-04 - val_loss: 6.0167e-05\n",
      "Epoch 71/100\n",
      "6700/6700 [==============================] - 0s 23us/step - loss: 1.1472e-04 - val_loss: 6.3931e-05\n",
      "Epoch 72/100\n",
      "6700/6700 [==============================] - 0s 22us/step - loss: 1.9015e-04 - val_loss: 1.4502e-04\n",
      "Epoch 73/100\n",
      "6700/6700 [==============================] - 0s 25us/step - loss: 1.1350e-04 - val_loss: 5.6661e-05\n",
      "Epoch 74/100\n",
      "6700/6700 [==============================] - 0s 25us/step - loss: 1.2967e-04 - val_loss: 1.1325e-04\n",
      "Epoch 75/100\n",
      "6700/6700 [==============================] - 0s 23us/step - loss: 1.3005e-04 - val_loss: 3.5763e-04\n",
      "Epoch 76/100\n",
      "6700/6700 [==============================] - 0s 21us/step - loss: 1.9418e-04 - val_loss: 6.2119e-05\n",
      "Epoch 77/100\n",
      "6700/6700 [==============================] - 0s 20us/step - loss: 1.1604e-04 - val_loss: 5.2118e-04\n",
      "Epoch 78/100\n",
      "6700/6700 [==============================] - 0s 22us/step - loss: 1.4130e-04 - val_loss: 6.4923e-05\n",
      "Epoch 79/100\n",
      "6700/6700 [==============================] - 0s 24us/step - loss: 1.5197e-04 - val_loss: 1.6206e-04\n",
      "Epoch 80/100\n",
      "6700/6700 [==============================] - 0s 22us/step - loss: 1.8274e-04 - val_loss: 1.6595e-04\n",
      "Epoch 81/100\n",
      "6700/6700 [==============================] - 0s 25us/step - loss: 1.0378e-04 - val_loss: 6.4206e-05\n",
      "Epoch 82/100\n",
      "6700/6700 [==============================] - 0s 22us/step - loss: 1.3996e-04 - val_loss: 1.1748e-04\n",
      "Epoch 83/100\n",
      "6700/6700 [==============================] - 0s 22us/step - loss: 1.6299e-04 - val_loss: 1.1567e-04\n",
      "Epoch 84/100\n",
      "6700/6700 [==============================] - 0s 22us/step - loss: 1.1758e-04 - val_loss: 9.3142e-05\n",
      "Epoch 85/100\n",
      "6700/6700 [==============================] - 0s 21us/step - loss: 1.5212e-04 - val_loss: 6.7238e-05\n",
      "Epoch 86/100\n",
      "6700/6700 [==============================] - 0s 24us/step - loss: 1.2903e-04 - val_loss: 8.1630e-05\n",
      "Epoch 87/100\n",
      "6700/6700 [==============================] - 0s 21us/step - loss: 1.4384e-04 - val_loss: 5.5154e-05\n",
      "Epoch 88/100\n",
      "6700/6700 [==============================] - 0s 22us/step - loss: 1.2623e-04 - val_loss: 1.6352e-04\n",
      "Epoch 89/100\n",
      "6700/6700 [==============================] - 0s 22us/step - loss: 1.2890e-04 - val_loss: 6.9255e-05\n",
      "Epoch 90/100\n",
      "6700/6700 [==============================] - 0s 21us/step - loss: 1.3332e-04 - val_loss: 9.3086e-05\n",
      "Epoch 91/100\n",
      "6700/6700 [==============================] - 0s 23us/step - loss: 1.7272e-04 - val_loss: 5.8617e-05\n",
      "Epoch 92/100\n",
      "6700/6700 [==============================] - 0s 22us/step - loss: 1.0922e-04 - val_loss: 1.0116e-04\n",
      "Epoch 93/100\n",
      "6700/6700 [==============================] - 0s 21us/step - loss: 1.3937e-04 - val_loss: 7.9088e-05\n",
      "Epoch 94/100\n",
      "6700/6700 [==============================] - 0s 23us/step - loss: 1.4913e-04 - val_loss: 4.3698e-04\n",
      "Epoch 95/100\n",
      "6700/6700 [==============================] - 0s 21us/step - loss: 1.3673e-04 - val_loss: 9.0687e-05\n",
      "Epoch 96/100\n",
      "6700/6700 [==============================] - 0s 24us/step - loss: 1.1646e-04 - val_loss: 6.7394e-05\n",
      "Epoch 97/100\n",
      "6700/6700 [==============================] - 0s 21us/step - loss: 1.3907e-04 - val_loss: 6.4052e-05\n",
      "Epoch 98/100\n",
      "6700/6700 [==============================] - 0s 21us/step - loss: 1.2415e-04 - val_loss: 2.2615e-04\n",
      "Epoch 99/100\n",
      "6700/6700 [==============================] - 0s 23us/step - loss: 1.3774e-04 - val_loss: 6.1892e-05\n",
      "Epoch 100/100\n",
      "6700/6700 [==============================] - 0s 21us/step - loss: 1.3721e-04 - val_loss: 3.0640e-04\n"
     ]
    }
   ],
   "source": [
    "history = model.fit(x=X_train, y=Y_train, batch_size=32, epochs=100, validation_data=(X_test, Y_test))"
   ]
  },
  {
   "cell_type": "markdown",
   "metadata": {},
   "source": [
    "Making predictions and evaluation:"
   ]
  },
  {
   "cell_type": "code",
   "execution_count": 27,
   "metadata": {
    "scrolled": true
   },
   "outputs": [
    {
     "name": "stdout",
     "output_type": "stream",
     "text": [
      "MSE :  0.0003063977349365151\n"
     ]
    }
   ],
   "source": [
    "preds = model.predict(X_test)\n",
    "print('MSE : ', mean_squared_error(preds, Y_test))"
   ]
  },
  {
   "cell_type": "code",
   "execution_count": 28,
   "metadata": {},
   "outputs": [
    {
     "data": {
      "text/plain": [
       "Text(0, 0.5, 'count')"
      ]
     },
     "execution_count": 28,
     "metadata": {},
     "output_type": "execute_result"
    },
    {
     "data": {
      "image/png": "[encoded data removed]",
      "text/plain": [
       "<Figure size 720x720 with 1 Axes>"
      ]
     },
     "metadata": {
      "needs_background": "light"
     },
     "output_type": "display_data"
    }
   ],
   "source": [
    "plt.figure(figsize=(10,10))\n",
    "Y_hist = plt.hist(Y_test, 50, (0,1.1),histtype=\"stepfilled\",alpha= 0.4, color ='r')\n",
    "plt.title(\"Y_test\")\n",
    "pred_hist = plt.hist(preds, 50, (0,1.1),histtype=\"stepfilled\",alpha= 0.4, color ='b')\n",
    "plt.legend([\"real labels\", \"estimated\"], loc='upper left')\n",
    "plt.xlabel(\"magnetization\", fontsize = 14)\n",
    "plt.ylabel(\"count\",  fontsize = 14)"
   ]
  },
  {
   "cell_type": "markdown",
   "metadata": {},
   "source": [
    "## 3.3 Energy prediction"
   ]
  },
  {
   "cell_type": "markdown",
   "metadata": {},
   "source": [
    "Normalization of the labels:"
   ]
  },
  {
   "cell_type": "code",
   "execution_count": 29,
   "metadata": {
    "scrolled": false
   },
   "outputs": [
    {
     "data": {
      "text/plain": [
       "78.0"
      ]
     },
     "execution_count": 29,
     "metadata": {},
     "output_type": "execute_result"
    }
   ],
   "source": [
    "max(trainlabelsE)"
   ]
  },
  {
   "cell_type": "code",
   "execution_count": 30,
   "metadata": {
    "scrolled": false
   },
   "outputs": [
    {
     "data": {
      "text/plain": [
       "-900.0"
      ]
     },
     "execution_count": 30,
     "metadata": {},
     "output_type": "execute_result"
    }
   ],
   "source": [
    "min(trainlabelsE)"
   ]
  },
  {
   "cell_type": "code",
   "execution_count": 31,
   "metadata": {},
   "outputs": [],
   "source": [
    "trainlabelsE=(trainlabelsE-min(trainlabelsE))/(max(trainlabelsE)-min(trainlabelsE))"
   ]
  },
  {
   "cell_type": "code",
   "execution_count": 32,
   "metadata": {},
   "outputs": [
    {
     "data": {
      "text/plain": [
       "0.0"
      ]
     },
     "execution_count": 32,
     "metadata": {},
     "output_type": "execute_result"
    }
   ],
   "source": [
    "min(trainlabelsE)"
   ]
  },
  {
   "cell_type": "code",
   "execution_count": 33,
   "metadata": {},
   "outputs": [],
   "source": [
    "X_trainE, X_testE, Y_trainE, Y_testE = train_test_split(train_attrs, trainlabelsE, test_size=0.33, random_state=0)"
   ]
  },
  {
   "cell_type": "markdown",
   "metadata": {},
   "source": [
    "Definition of the model:"
   ]
  },
  {
   "cell_type": "code",
   "execution_count": 34,
   "metadata": {},
   "outputs": [],
   "source": [
    "model2 = Sequential()\n",
    "model2.add(Dense(100, input_dim=100, activation='relu'))\n",
    "model2.add(Dense(50, activation='relu'))\n",
    "model2.add(Dense(30, activation='relu'))\n",
    "model2.add(Dense(1, activation='relu'))"
   ]
  },
  {
   "cell_type": "code",
   "execution_count": 35,
   "metadata": {},
   "outputs": [],
   "source": [
    "model2.compile(loss='mean_squared_error', optimizer='adam')"
   ]
  },
  {
   "cell_type": "code",
   "execution_count": 36,
   "metadata": {},
   "outputs": [
    {
     "name": "stdout",
     "output_type": "stream",
     "text": [
      "_________________________________________________________________\n",
      "Layer (type)                 Output Shape              Param #   \n",
      "=================================================================\n",
      "dense_3 (Dense)              (None, 100)               10100     \n",
      "_________________________________________________________________\n",
      "dense_4 (Dense)              (None, 50)                5050      \n",
      "_________________________________________________________________\n",
      "dense_5 (Dense)              (None, 30)                1530      \n",
      "_________________________________________________________________\n",
      "dense_6 (Dense)              (None, 1)                 31        \n",
      "=================================================================\n",
      "Total params: 16,711\n",
      "Trainable params: 16,711\n",
      "Non-trainable params: 0\n",
      "_________________________________________________________________\n"
     ]
    }
   ],
   "source": [
    "model2.summary()"
   ]
  },
  {
   "cell_type": "code",
   "execution_count": 37,
   "metadata": {},
   "outputs": [
    {
     "name": "stdout",
     "output_type": "stream",
     "text": [
      "Train on 6700 samples, validate on 3300 samples\n",
      "Epoch 1/100\n",
      "6700/6700 [==============================] - 0s 46us/step - loss: 0.0095 - val_loss: 0.0086\n",
      "Epoch 2/100\n",
      "6700/6700 [==============================] - 0s 15us/step - loss: 0.0096 - val_loss: 0.0086\n",
      "Epoch 3/100\n",
      "6700/6700 [==============================] - 0s 15us/step - loss: 0.0086 - val_loss: 0.0057\n",
      "Epoch 4/100\n",
      "6700/6700 [==============================] - 0s 17us/step - loss: 0.0026 - val_loss: 9.0791e-04\n",
      "Epoch 5/100\n",
      "6700/6700 [==============================] - 0s 16us/step - loss: 7.2906e-04 - val_loss: 6.6341e-04\n",
      "Epoch 6/100\n",
      "6700/6700 [==============================] - 0s 15us/step - loss: 5.1134e-04 - val_loss: 6.1371e-04\n",
      "Epoch 7/100\n",
      "6700/6700 [==============================] - 0s 14us/step - loss: 3.7253e-04 - val_loss: 4.8657e-04\n",
      "Epoch 8/100\n",
      "6700/6700 [==============================] - 0s 15us/step - loss: 3.2988e-04 - val_loss: 4.3452e-04\n",
      "Epoch 9/100\n",
      "6700/6700 [==============================] - 0s 15us/step - loss: 3.0934e-04 - val_loss: 4.2270e-04\n",
      "Epoch 10/100\n",
      "6700/6700 [==============================] - 0s 17us/step - loss: 2.5403e-04 - val_loss: 4.6692e-04\n",
      "Epoch 11/100\n",
      "6700/6700 [==============================] - 0s 15us/step - loss: 2.5111e-04 - val_loss: 3.8298e-04\n",
      "Epoch 12/100\n",
      "6700/6700 [==============================] - 0s 14us/step - loss: 2.3678e-04 - val_loss: 3.5835e-04\n",
      "Epoch 13/100\n",
      "6700/6700 [==============================] - 0s 14us/step - loss: 2.5118e-04 - val_loss: 3.5113e-04\n",
      "Epoch 14/100\n",
      "6700/6700 [==============================] - 0s 15us/step - loss: 2.3888e-04 - val_loss: 3.3910e-04\n",
      "Epoch 15/100\n",
      "6700/6700 [==============================] - 0s 15us/step - loss: 2.1836e-04 - val_loss: 3.9200e-04\n",
      "Epoch 16/100\n",
      "6700/6700 [==============================] - 0s 15us/step - loss: 2.2053e-04 - val_loss: 3.2168e-04\n",
      "Epoch 17/100\n",
      "6700/6700 [==============================] - 0s 14us/step - loss: 2.0928e-04 - val_loss: 3.0969e-04\n",
      "Epoch 18/100\n",
      "6700/6700 [==============================] - 0s 14us/step - loss: 1.8621e-04 - val_loss: 2.9223e-04\n",
      "Epoch 19/100\n",
      "6700/6700 [==============================] - 0s 15us/step - loss: 1.7350e-04 - val_loss: 3.2263e-04\n",
      "Epoch 20/100\n",
      "6700/6700 [==============================] - 0s 17us/step - loss: 1.7778e-04 - val_loss: 2.6235e-04\n",
      "Epoch 21/100\n",
      "6700/6700 [==============================] - 0s 16us/step - loss: 1.6923e-04 - val_loss: 3.0144e-04\n",
      "Epoch 22/100\n",
      "6700/6700 [==============================] - 0s 14us/step - loss: 2.0779e-04 - val_loss: 2.7780e-04\n",
      "Epoch 23/100\n",
      "6700/6700 [==============================] - 0s 14us/step - loss: 2.0759e-04 - val_loss: 3.7397e-04\n",
      "Epoch 24/100\n",
      "6700/6700 [==============================] - 0s 14us/step - loss: 2.0104e-04 - val_loss: 2.4348e-04\n",
      "Epoch 25/100\n",
      "6700/6700 [==============================] - 0s 15us/step - loss: 1.4547e-04 - val_loss: 2.6907e-04\n",
      "Epoch 26/100\n",
      "6700/6700 [==============================] - 0s 15us/step - loss: 1.4899e-04 - val_loss: 4.1676e-04\n",
      "Epoch 27/100\n",
      "6700/6700 [==============================] - 0s 15us/step - loss: 1.6044e-04 - val_loss: 2.8890e-04\n",
      "Epoch 28/100\n",
      "6700/6700 [==============================] - 0s 15us/step - loss: 1.6294e-04 - val_loss: 3.2142e-04\n",
      "Epoch 29/100\n",
      "6700/6700 [==============================] - 0s 14us/step - loss: 2.1283e-04 - val_loss: 3.5773e-04\n",
      "Epoch 30/100\n",
      "6700/6700 [==============================] - 0s 14us/step - loss: 2.1528e-04 - val_loss: 2.8416e-04\n",
      "Epoch 31/100\n",
      "6700/6700 [==============================] - 0s 14us/step - loss: 1.8784e-04 - val_loss: 3.2071e-04\n",
      "Epoch 32/100\n",
      "6700/6700 [==============================] - 0s 15us/step - loss: 1.7837e-04 - val_loss: 2.8808e-04\n",
      "Epoch 33/100\n",
      "6700/6700 [==============================] - 0s 15us/step - loss: 1.8815e-04 - val_loss: 2.7028e-04\n",
      "Epoch 34/100\n",
      "6700/6700 [==============================] - 0s 17us/step - loss: 1.6249e-04 - val_loss: 2.2668e-04\n",
      "Epoch 35/100\n",
      "6700/6700 [==============================] - 0s 15us/step - loss: 1.4013e-04 - val_loss: 2.1050e-04\n",
      "Epoch 36/100\n",
      "6700/6700 [==============================] - 0s 15us/step - loss: 1.6698e-04 - val_loss: 2.2421e-04\n",
      "Epoch 37/100\n",
      "6700/6700 [==============================] - 0s 15us/step - loss: 1.6054e-04 - val_loss: 2.7347e-04\n",
      "Epoch 38/100\n",
      "6700/6700 [==============================] - 0s 15us/step - loss: 1.1196e-04 - val_loss: 2.5605e-04\n",
      "Epoch 39/100\n",
      "6700/6700 [==============================] - 0s 14us/step - loss: 1.0148e-04 - val_loss: 2.6875e-04\n",
      "Epoch 40/100\n",
      "6700/6700 [==============================] - 0s 14us/step - loss: 1.2641e-04 - val_loss: 2.4072e-04\n",
      "Epoch 41/100\n",
      "6700/6700 [==============================] - 0s 14us/step - loss: 1.1043e-04 - val_loss: 2.4538e-04\n",
      "Epoch 42/100\n",
      "6700/6700 [==============================] - 0s 14us/step - loss: 8.5789e-05 - val_loss: 2.0870e-04\n",
      "Epoch 43/100\n",
      "6700/6700 [==============================] - 0s 14us/step - loss: 7.9371e-05 - val_loss: 2.3521e-04\n",
      "Epoch 44/100\n",
      "6700/6700 [==============================] - 0s 15us/step - loss: 9.8144e-05 - val_loss: 2.4827e-04\n",
      "Epoch 45/100\n",
      "6700/6700 [==============================] - 0s 14us/step - loss: 6.4969e-05 - val_loss: 2.4456e-04\n",
      "Epoch 46/100\n",
      "6700/6700 [==============================] - 0s 15us/step - loss: 8.8783e-05 - val_loss: 2.4241e-04\n",
      "Epoch 47/100\n",
      "6700/6700 [==============================] - 0s 17us/step - loss: 9.5675e-05 - val_loss: 2.8629e-04\n",
      "Epoch 48/100\n",
      "6700/6700 [==============================] - 0s 17us/step - loss: 9.2001e-05 - val_loss: 2.5288e-04\n",
      "Epoch 49/100\n",
      "6700/6700 [==============================] - 0s 15us/step - loss: 1.3692e-04 - val_loss: 2.8992e-04\n",
      "Epoch 50/100\n",
      "6700/6700 [==============================] - 0s 15us/step - loss: 1.3048e-04 - val_loss: 2.3019e-04\n",
      "Epoch 51/100\n",
      "6700/6700 [==============================] - 0s 17us/step - loss: 1.2334e-04 - val_loss: 2.0251e-04\n",
      "Epoch 52/100\n",
      "6700/6700 [==============================] - 0s 17us/step - loss: 1.2470e-04 - val_loss: 2.4465e-04\n",
      "Epoch 53/100\n",
      "6700/6700 [==============================] - 0s 15us/step - loss: 8.6297e-05 - val_loss: 1.8108e-04\n",
      "Epoch 54/100\n",
      "6700/6700 [==============================] - 0s 14us/step - loss: 1.0387e-04 - val_loss: 1.7673e-04\n",
      "Epoch 55/100\n",
      "6700/6700 [==============================] - 0s 14us/step - loss: 1.3145e-04 - val_loss: 2.2125e-04\n",
      "Epoch 56/100\n",
      "6700/6700 [==============================] - 0s 14us/step - loss: 9.8194e-05 - val_loss: 2.1349e-04\n",
      "Epoch 57/100\n",
      "6700/6700 [==============================] - 0s 14us/step - loss: 8.7307e-05 - val_loss: 2.1779e-04\n",
      "Epoch 58/100\n",
      "6700/6700 [==============================] - 0s 17us/step - loss: 8.1872e-05 - val_loss: 2.3609e-04\n",
      "Epoch 59/100\n",
      "6700/6700 [==============================] - 0s 17us/step - loss: 6.5726e-05 - val_loss: 2.0276e-04\n",
      "Epoch 60/100\n",
      "6700/6700 [==============================] - 0s 14us/step - loss: 7.5456e-05 - val_loss: 2.0403e-04\n",
      "Epoch 61/100\n",
      "6700/6700 [==============================] - 0s 14us/step - loss: 6.1114e-05 - val_loss: 2.2222e-04\n",
      "Epoch 62/100\n",
      "6700/6700 [==============================] - 0s 14us/step - loss: 5.4757e-05 - val_loss: 1.6872e-04\n",
      "Epoch 63/100\n",
      "6700/6700 [==============================] - 0s 14us/step - loss: 5.9361e-05 - val_loss: 2.5263e-04\n",
      "Epoch 64/100\n",
      "6700/6700 [==============================] - ETA: 0s - loss: 4.6570e-0 - 0s 15us/step - loss: 5.3771e-05 - val_loss: 1.8171e-04\n",
      "Epoch 65/100\n",
      "6700/6700 [==============================] - 0s 17us/step - loss: 5.6788e-05 - val_loss: 3.0584e-04\n",
      "Epoch 66/100\n",
      "6700/6700 [==============================] - 0s 16us/step - loss: 6.5091e-05 - val_loss: 1.4948e-04\n",
      "Epoch 67/100\n",
      "6700/6700 [==============================] - 0s 14us/step - loss: 5.7455e-05 - val_loss: 1.6258e-04\n",
      "Epoch 68/100\n",
      "6700/6700 [==============================] - 0s 14us/step - loss: 6.9598e-05 - val_loss: 2.0332e-04\n",
      "Epoch 69/100\n",
      "6700/6700 [==============================] - 0s 15us/step - loss: 6.8590e-05 - val_loss: 2.0118e-04\n",
      "Epoch 70/100\n",
      "6700/6700 [==============================] - 0s 18us/step - loss: 7.0734e-05 - val_loss: 2.3669e-04\n",
      "Epoch 71/100\n",
      "6700/6700 [==============================] - 0s 16us/step - loss: 1.1239e-04 - val_loss: 1.6155e-04\n",
      "Epoch 72/100\n",
      "6700/6700 [==============================] - 0s 15us/step - loss: 6.8656e-05 - val_loss: 1.6386e-04\n",
      "Epoch 73/100\n",
      "6700/6700 [==============================] - 0s 14us/step - loss: 6.5449e-05 - val_loss: 1.6285e-04\n",
      "Epoch 74/100\n",
      "6700/6700 [==============================] - 0s 15us/step - loss: 1.2916e-04 - val_loss: 1.5346e-04\n",
      "Epoch 75/100\n",
      "6700/6700 [==============================] - 0s 14us/step - loss: 1.4664e-04 - val_loss: 2.6980e-04\n",
      "Epoch 76/100\n",
      "6700/6700 [==============================] - 0s 14us/step - loss: 1.3508e-04 - val_loss: 1.6402e-04\n",
      "Epoch 77/100\n",
      "6700/6700 [==============================] - 0s 14us/step - loss: 6.2690e-05 - val_loss: 1.5513e-04\n",
      "Epoch 78/100\n",
      "6700/6700 [==============================] - 0s 14us/step - loss: 4.4216e-05 - val_loss: 1.3988e-04\n",
      "Epoch 79/100\n",
      "6700/6700 [==============================] - 0s 14us/step - loss: 4.4806e-05 - val_loss: 1.4517e-04\n",
      "Epoch 80/100\n",
      "6700/6700 [==============================] - 0s 14us/step - loss: 4.2969e-05 - val_loss: 1.3328e-04\n",
      "Epoch 81/100\n",
      "6700/6700 [==============================] - 0s 15us/step - loss: 4.0551e-05 - val_loss: 2.0161e-04\n",
      "Epoch 82/100\n",
      "6700/6700 [==============================] - 0s 14us/step - loss: 4.0087e-05 - val_loss: 1.3500e-04\n",
      "Epoch 83/100\n",
      "6700/6700 [==============================] - 0s 14us/step - loss: 3.7657e-05 - val_loss: 1.2472e-04\n",
      "Epoch 84/100\n",
      "6700/6700 [==============================] - 0s 14us/step - loss: 2.9260e-05 - val_loss: 1.4157e-04\n",
      "Epoch 85/100\n",
      "6700/6700 [==============================] - 0s 14us/step - loss: 2.8124e-05 - val_loss: 1.2345e-04\n",
      "Epoch 86/100\n",
      "6700/6700 [==============================] - 0s 14us/step - loss: 3.0886e-05 - val_loss: 1.2925e-04\n",
      "Epoch 87/100\n",
      "6700/6700 [==============================] - 0s 14us/step - loss: 3.7691e-05 - val_loss: 1.4433e-04\n",
      "Epoch 88/100\n",
      "6700/6700 [==============================] - 0s 14us/step - loss: 4.6137e-05 - val_loss: 1.4279e-04\n",
      "Epoch 89/100\n",
      "6700/6700 [==============================] - 0s 14us/step - loss: 4.6925e-05 - val_loss: 1.2765e-04\n",
      "Epoch 90/100\n",
      "6700/6700 [==============================] - 0s 14us/step - loss: 3.1655e-05 - val_loss: 1.3989e-04\n",
      "Epoch 91/100\n",
      "6700/6700 [==============================] - 0s 14us/step - loss: 3.5668e-05 - val_loss: 1.1718e-04\n",
      "Epoch 92/100\n",
      "6700/6700 [==============================] - 0s 15us/step - loss: 5.4470e-05 - val_loss: 1.4867e-04\n",
      "Epoch 93/100\n",
      "6700/6700 [==============================] - 0s 14us/step - loss: 5.4770e-05 - val_loss: 1.3947e-04\n",
      "Epoch 94/100\n",
      "6700/6700 [==============================] - 0s 14us/step - loss: 7.8101e-05 - val_loss: 1.2246e-04\n",
      "Epoch 95/100\n",
      "6700/6700 [==============================] - 0s 14us/step - loss: 7.8687e-05 - val_loss: 1.4130e-04\n",
      "Epoch 96/100\n",
      "6700/6700 [==============================] - 0s 14us/step - loss: 1.0096e-04 - val_loss: 1.1429e-04\n",
      "Epoch 97/100\n",
      "6700/6700 [==============================] - 0s 15us/step - loss: 5.1945e-05 - val_loss: 1.2295e-04\n",
      "Epoch 98/100\n",
      "6700/6700 [==============================] - 0s 14us/step - loss: 4.3305e-05 - val_loss: 1.1678e-04\n",
      "Epoch 99/100\n",
      "6700/6700 [==============================] - 0s 14us/step - loss: 2.7169e-05 - val_loss: 1.1534e-04\n",
      "Epoch 100/100\n",
      "6700/6700 [==============================] - 0s 14us/step - loss: 2.1146e-05 - val_loss: 1.1049e-04\n"
     ]
    }
   ],
   "source": [
    "history = model2.fit(x=X_trainE, y=Y_trainE, batch_size=64, epochs=100, validation_data=(X_testE, Y_testE))"
   ]
  },
  {
   "cell_type": "code",
   "execution_count": 38,
   "metadata": {
    "scrolled": true
   },
   "outputs": [
    {
     "name": "stdout",
     "output_type": "stream",
     "text": [
      "MSE :  0.0001104853180888348\n"
     ]
    }
   ],
   "source": [
    "predsE = model2.predict(X_testE)\n",
    "print('MSE : ', mean_squared_error(predsE, Y_testE))"
   ]
  },
  {
   "cell_type": "code",
   "execution_count": 39,
   "metadata": {},
   "outputs": [
    {
     "data": {
      "text/plain": [
       "Text(0, 0.5, 'count')"
      ]
     },
     "execution_count": 39,
     "metadata": {},
     "output_type": "execute_result"
    },
    {
     "data": {
      "image/png": "[encoded data removed]",
      "text/plain": [
       "<Figure size 720x720 with 1 Axes>"
      ]
     },
     "metadata": {
      "needs_background": "light"
     },
     "output_type": "display_data"
    }
   ],
   "source": [
    "plt.figure(figsize=(10,10))\n",
    "Y_hist = plt.hist(Y_testE, 50, (0,1.1),histtype=\"stepfilled\",alpha= 0.4, color ='r')\n",
    "plt.title(\"Y_test\")\n",
    "pred_hist = plt.hist(predsE, 50, (0,1.1),histtype=\"stepfilled\",alpha= 0.4, color ='b')\n",
    "plt.legend([\"real labels\", \"estimated\"], loc='upper right')\n",
    "plt.xlabel(\"energy\", fontsize = 14)\n",
    "plt.ylabel(\"count\",  fontsize = 14)"
   ]
  },
  {
   "cell_type": "markdown",
   "metadata": {},
   "source": [
    "# 4. Neural Network learns to calculate coupling strength"
   ]
  },
  {
   "cell_type": "code",
   "execution_count": 40,
   "metadata": {},
   "outputs": [],
   "source": [
    "traindata2 = pd.read_csv(\"training_data2.csv\", names=[\"K\"]+[\"E\"]+[\"M\"]+[i for i in range(L*L)])"
   ]
  },
  {
   "cell_type": "code",
   "execution_count": 41,
   "metadata": {
    "scrolled": true
   },
   "outputs": [
    {
     "data": {
      "text/html": [
       "<div>\n",
       "<style scoped>\n",
       "    .dataframe tbody tr th:only-of-type {\n",
       "        vertical-align: middle;\n",
       "    }\n",
       "\n",
       "    .dataframe tbody tr th {\n",
       "        vertical-align: top;\n",
       "    }\n",
       "\n",
       "    .dataframe thead th {\n",
       "        text-align: right;\n",
       "    }\n",
       "</style>\n",
       "<table border=\"1\" class=\"dataframe\">\n",
       "  <thead>\n",
       "    <tr style=\"text-align: right;\">\n",
       "      <th></th>\n",
       "      <th>K</th>\n",
       "      <th>E</th>\n",
       "      <th>M</th>\n",
       "      <th>0</th>\n",
       "      <th>1</th>\n",
       "      <th>2</th>\n",
       "      <th>3</th>\n",
       "      <th>4</th>\n",
       "      <th>5</th>\n",
       "      <th>6</th>\n",
       "      <th>...</th>\n",
       "      <th>90</th>\n",
       "      <th>91</th>\n",
       "      <th>92</th>\n",
       "      <th>93</th>\n",
       "      <th>94</th>\n",
       "      <th>95</th>\n",
       "      <th>96</th>\n",
       "      <th>97</th>\n",
       "      <th>98</th>\n",
       "      <th>99</th>\n",
       "    </tr>\n",
       "  </thead>\n",
       "  <tbody>\n",
       "    <tr>\n",
       "      <th>0</th>\n",
       "      <td>0.981545</td>\n",
       "      <td>-866.913386</td>\n",
       "      <td>0.98</td>\n",
       "      <td>1</td>\n",
       "      <td>1</td>\n",
       "      <td>1</td>\n",
       "      <td>1</td>\n",
       "      <td>1</td>\n",
       "      <td>1</td>\n",
       "      <td>1</td>\n",
       "      <td>...</td>\n",
       "      <td>1</td>\n",
       "      <td>1</td>\n",
       "      <td>1</td>\n",
       "      <td>1</td>\n",
       "      <td>1</td>\n",
       "      <td>1</td>\n",
       "      <td>1</td>\n",
       "      <td>1</td>\n",
       "      <td>1</td>\n",
       "      <td>1</td>\n",
       "    </tr>\n",
       "    <tr>\n",
       "      <th>1</th>\n",
       "      <td>0.244548</td>\n",
       "      <td>-472.604335</td>\n",
       "      <td>0.82</td>\n",
       "      <td>1</td>\n",
       "      <td>1</td>\n",
       "      <td>1</td>\n",
       "      <td>1</td>\n",
       "      <td>1</td>\n",
       "      <td>1</td>\n",
       "      <td>1</td>\n",
       "      <td>...</td>\n",
       "      <td>1</td>\n",
       "      <td>1</td>\n",
       "      <td>1</td>\n",
       "      <td>1</td>\n",
       "      <td>1</td>\n",
       "      <td>1</td>\n",
       "      <td>1</td>\n",
       "      <td>1</td>\n",
       "      <td>1</td>\n",
       "      <td>1</td>\n",
       "    </tr>\n",
       "    <tr>\n",
       "      <th>2</th>\n",
       "      <td>1.479373</td>\n",
       "      <td>-1058.079211</td>\n",
       "      <td>0.98</td>\n",
       "      <td>1</td>\n",
       "      <td>1</td>\n",
       "      <td>1</td>\n",
       "      <td>1</td>\n",
       "      <td>1</td>\n",
       "      <td>1</td>\n",
       "      <td>1</td>\n",
       "      <td>...</td>\n",
       "      <td>1</td>\n",
       "      <td>1</td>\n",
       "      <td>1</td>\n",
       "      <td>1</td>\n",
       "      <td>1</td>\n",
       "      <td>1</td>\n",
       "      <td>1</td>\n",
       "      <td>1</td>\n",
       "      <td>1</td>\n",
       "      <td>1</td>\n",
       "    </tr>\n",
       "    <tr>\n",
       "      <th>3</th>\n",
       "      <td>3.178758</td>\n",
       "      <td>-1649.783027</td>\n",
       "      <td>0.96</td>\n",
       "      <td>1</td>\n",
       "      <td>1</td>\n",
       "      <td>1</td>\n",
       "      <td>-1</td>\n",
       "      <td>1</td>\n",
       "      <td>1</td>\n",
       "      <td>1</td>\n",
       "      <td>...</td>\n",
       "      <td>1</td>\n",
       "      <td>1</td>\n",
       "      <td>1</td>\n",
       "      <td>1</td>\n",
       "      <td>1</td>\n",
       "      <td>1</td>\n",
       "      <td>1</td>\n",
       "      <td>1</td>\n",
       "      <td>1</td>\n",
       "      <td>1</td>\n",
       "    </tr>\n",
       "    <tr>\n",
       "      <th>4</th>\n",
       "      <td>0.148842</td>\n",
       "      <td>-438.103564</td>\n",
       "      <td>0.80</td>\n",
       "      <td>1</td>\n",
       "      <td>1</td>\n",
       "      <td>1</td>\n",
       "      <td>1</td>\n",
       "      <td>1</td>\n",
       "      <td>1</td>\n",
       "      <td>1</td>\n",
       "      <td>...</td>\n",
       "      <td>1</td>\n",
       "      <td>1</td>\n",
       "      <td>1</td>\n",
       "      <td>1</td>\n",
       "      <td>1</td>\n",
       "      <td>1</td>\n",
       "      <td>-1</td>\n",
       "      <td>1</td>\n",
       "      <td>1</td>\n",
       "      <td>1</td>\n",
       "    </tr>\n",
       "  </tbody>\n",
       "</table>\n",
       "<p>5 rows × 103 columns</p>\n",
       "</div>"
      ],
      "text/plain": [
       "          K            E     M  0  1  2  3  4  5  6 ...  90  91  92  93  94  \\\n",
       "0  0.981545  -866.913386  0.98  1  1  1  1  1  1  1 ...   1   1   1   1   1   \n",
       "1  0.244548  -472.604335  0.82  1  1  1  1  1  1  1 ...   1   1   1   1   1   \n",
       "2  1.479373 -1058.079211  0.98  1  1  1  1  1  1  1 ...   1   1   1   1   1   \n",
       "3  3.178758 -1649.783027  0.96  1  1  1 -1  1  1  1 ...   1   1   1   1   1   \n",
       "4  0.148842  -438.103564  0.80  1  1  1  1  1  1  1 ...   1   1   1   1   1   \n",
       "\n",
       "   95  96  97  98  99  \n",
       "0   1   1   1   1   1  \n",
       "1   1   1   1   1   1  \n",
       "2   1   1   1   1   1  \n",
       "3   1   1   1   1   1  \n",
       "4   1  -1   1   1   1  \n",
       "\n",
       "[5 rows x 103 columns]"
      ]
     },
     "execution_count": 41,
     "metadata": {},
     "output_type": "execute_result"
    }
   ],
   "source": [
    "traindata2.head()"
   ]
  },
  {
   "cell_type": "code",
   "execution_count": 42,
   "metadata": {},
   "outputs": [],
   "source": [
    "traindata2[\"E\"]=(traindata2[\"E\"]-min(traindata2[\"E\"]))/(max(traindata2[\"E\"])-min(traindata2[\"E\"]))"
   ]
  },
  {
   "cell_type": "code",
   "execution_count": 43,
   "metadata": {},
   "outputs": [],
   "source": [
    "traindata2[\"M\"]=(traindata2[\"M\"]-min(traindata2[\"M\"]))/(max(traindata2[\"M\"])-min(traindata2[\"M\"]))"
   ]
  },
  {
   "cell_type": "code",
   "execution_count": 44,
   "metadata": {},
   "outputs": [],
   "source": [
    "trainlabelsK=traindata2[\"K\"].values"
   ]
  },
  {
   "cell_type": "code",
   "execution_count": 45,
   "metadata": {},
   "outputs": [],
   "source": [
    "train_attrs2=traindata2.drop(columns=[\"K\"])"
   ]
  },
  {
   "cell_type": "code",
   "execution_count": 46,
   "metadata": {},
   "outputs": [],
   "source": [
    "trainlabelsK=(trainlabelsK-min(trainlabelsK))/(max(trainlabelsK)-min(trainlabelsK))"
   ]
  },
  {
   "cell_type": "code",
   "execution_count": 47,
   "metadata": {},
   "outputs": [
    {
     "data": {
      "text/plain": [
       "0.0"
      ]
     },
     "execution_count": 47,
     "metadata": {},
     "output_type": "execute_result"
    }
   ],
   "source": [
    "min(trainlabelsK)"
   ]
  },
  {
   "cell_type": "code",
   "execution_count": 48,
   "metadata": {},
   "outputs": [],
   "source": [
    "X_trainK, X_testK, Y_trainK, Y_testK = train_test_split(train_attrs2, trainlabelsK, test_size=0.33, random_state=0)"
   ]
  },
  {
   "cell_type": "code",
   "execution_count": 49,
   "metadata": {},
   "outputs": [
    {
     "data": {
      "text/plain": [
       "((3350, 102), (3350,), (1650, 102), (1650,))"
      ]
     },
     "execution_count": 49,
     "metadata": {},
     "output_type": "execute_result"
    }
   ],
   "source": [
    "X_trainK.shape, Y_trainK.shape, X_testK.shape, Y_testK.shape"
   ]
  },
  {
   "cell_type": "code",
   "execution_count": 50,
   "metadata": {},
   "outputs": [],
   "source": [
    "model3 = Sequential()\n",
    "model3.add(Dense(102, input_dim=102, activation='relu'))\n",
    "model3.add(Dense(100, activation='relu'))\n",
    "model3.add(Dense(100, activation='relu'))\n",
    "model3.add(Dense(40, activation='relu'))\n",
    "model3.add(Dense(1, activation='relu'))"
   ]
  },
  {
   "cell_type": "code",
   "execution_count": 51,
   "metadata": {},
   "outputs": [
    {
     "name": "stdout",
     "output_type": "stream",
     "text": [
      "_________________________________________________________________\n",
      "Layer (type)                 Output Shape              Param #   \n",
      "=================================================================\n",
      "dense_7 (Dense)              (None, 102)               10506     \n",
      "_________________________________________________________________\n",
      "dense_8 (Dense)              (None, 100)               10300     \n",
      "_________________________________________________________________\n",
      "dense_9 (Dense)              (None, 100)               10100     \n",
      "_________________________________________________________________\n",
      "dense_10 (Dense)             (None, 40)                4040      \n",
      "_________________________________________________________________\n",
      "dense_11 (Dense)             (None, 1)                 41        \n",
      "=================================================================\n",
      "Total params: 34,987\n",
      "Trainable params: 34,987\n",
      "Non-trainable params: 0\n",
      "_________________________________________________________________\n"
     ]
    }
   ],
   "source": [
    "model3.summary()"
   ]
  },
  {
   "cell_type": "code",
   "execution_count": 52,
   "metadata": {},
   "outputs": [],
   "source": [
    "model3.compile(loss='mean_squared_error', optimizer='adam')"
   ]
  },
  {
   "cell_type": "code",
   "execution_count": 53,
   "metadata": {},
   "outputs": [
    {
     "name": "stdout",
     "output_type": "stream",
     "text": [
      "Train on 3350 samples, validate on 1650 samples\n",
      "Epoch 1/100\n",
      "3350/3350 [==============================] - 0s 102us/step - loss: 0.0122 - val_loss: 0.0084\n",
      "Epoch 2/100\n",
      "3350/3350 [==============================] - 0s 21us/step - loss: 0.0058 - val_loss: 0.0054\n",
      "Epoch 3/100\n",
      "3350/3350 [==============================] - 0s 21us/step - loss: 0.0046 - val_loss: 0.0052\n",
      "Epoch 4/100\n",
      "3350/3350 [==============================] - 0s 20us/step - loss: 0.0039 - val_loss: 0.0048\n",
      "Epoch 5/100\n",
      "3350/3350 [==============================] - 0s 20us/step - loss: 0.0036 - val_loss: 0.0056\n",
      "Epoch 6/100\n",
      "3350/3350 [==============================] - 0s 20us/step - loss: 0.0035 - val_loss: 0.0040\n",
      "Epoch 7/100\n",
      "3350/3350 [==============================] - 0s 19us/step - loss: 0.0032 - val_loss: 0.0040\n",
      "Epoch 8/100\n",
      "3350/3350 [==============================] - 0s 21us/step - loss: 0.0027 - val_loss: 0.0036\n",
      "Epoch 9/100\n",
      "3350/3350 [==============================] - 0s 19us/step - loss: 0.0022 - val_loss: 0.0031\n",
      "Epoch 10/100\n",
      "3350/3350 [==============================] - 0s 20us/step - loss: 0.0020 - val_loss: 0.0038\n",
      "Epoch 11/100\n",
      "3350/3350 [==============================] - 0s 21us/step - loss: 0.0018 - val_loss: 0.0027\n",
      "Epoch 12/100\n",
      "3350/3350 [==============================] - 0s 21us/step - loss: 0.0011 - val_loss: 0.0027\n",
      "Epoch 13/100\n",
      "3350/3350 [==============================] - 0s 20us/step - loss: 0.0012 - val_loss: 0.0027\n",
      "Epoch 14/100\n",
      "3350/3350 [==============================] - 0s 21us/step - loss: 8.7859e-04 - val_loss: 0.0025\n",
      "Epoch 15/100\n",
      "3350/3350 [==============================] - 0s 20us/step - loss: 7.5626e-04 - val_loss: 0.0024\n",
      "Epoch 16/100\n",
      "3350/3350 [==============================] - 0s 20us/step - loss: 7.2821e-04 - val_loss: 0.0024\n",
      "Epoch 17/100\n",
      "3350/3350 [==============================] - 0s 20us/step - loss: 5.5854e-04 - val_loss: 0.0022\n",
      "Epoch 18/100\n",
      "3350/3350 [==============================] - 0s 20us/step - loss: 5.8436e-04 - val_loss: 0.0024\n",
      "Epoch 19/100\n",
      "3350/3350 [==============================] - 0s 20us/step - loss: 5.9514e-04 - val_loss: 0.0021\n",
      "Epoch 20/100\n",
      "3350/3350 [==============================] - 0s 20us/step - loss: 5.7663e-04 - val_loss: 0.0025\n",
      "Epoch 21/100\n",
      "3350/3350 [==============================] - 0s 20us/step - loss: 4.6344e-04 - val_loss: 0.0023\n",
      "Epoch 22/100\n",
      "3350/3350 [==============================] - 0s 20us/step - loss: 4.9757e-04 - val_loss: 0.0033\n",
      "Epoch 23/100\n",
      "3350/3350 [==============================] - 0s 20us/step - loss: 5.0893e-04 - val_loss: 0.0021\n",
      "Epoch 24/100\n",
      "3350/3350 [==============================] - 0s 20us/step - loss: 3.1786e-04 - val_loss: 0.0020\n",
      "Epoch 25/100\n",
      "3350/3350 [==============================] - 0s 20us/step - loss: 3.8621e-04 - val_loss: 0.0020\n",
      "Epoch 26/100\n",
      "3350/3350 [==============================] - 0s 20us/step - loss: 3.1208e-04 - val_loss: 0.0029\n",
      "Epoch 27/100\n",
      "3350/3350 [==============================] - 0s 20us/step - loss: 4.6536e-04 - val_loss: 0.0023\n",
      "Epoch 28/100\n",
      "3350/3350 [==============================] - 0s 20us/step - loss: 5.7816e-04 - val_loss: 0.0020\n",
      "Epoch 29/100\n",
      "3350/3350 [==============================] - 0s 20us/step - loss: 2.7729e-04 - val_loss: 0.0019\n",
      "Epoch 30/100\n",
      "3350/3350 [==============================] - 0s 20us/step - loss: 1.8378e-04 - val_loss: 0.0019\n",
      "Epoch 31/100\n",
      "3350/3350 [==============================] - 0s 20us/step - loss: 1.7033e-04 - val_loss: 0.0018\n",
      "Epoch 32/100\n",
      "3350/3350 [==============================] - 0s 20us/step - loss: 2.0217e-04 - val_loss: 0.0021\n",
      "Epoch 33/100\n",
      "3350/3350 [==============================] - 0s 20us/step - loss: 1.7423e-04 - val_loss: 0.0019\n",
      "Epoch 34/100\n",
      "3350/3350 [==============================] - 0s 20us/step - loss: 1.9935e-04 - val_loss: 0.0019\n",
      "Epoch 35/100\n",
      "3350/3350 [==============================] - 0s 20us/step - loss: 1.8724e-04 - val_loss: 0.0023\n",
      "Epoch 36/100\n",
      "3350/3350 [==============================] - 0s 20us/step - loss: 2.1344e-04 - val_loss: 0.0019\n",
      "Epoch 37/100\n",
      "3350/3350 [==============================] - 0s 21us/step - loss: 1.4211e-04 - val_loss: 0.0019\n",
      "Epoch 38/100\n",
      "3350/3350 [==============================] - 0s 20us/step - loss: 2.3550e-04 - val_loss: 0.0018\n",
      "Epoch 39/100\n",
      "3350/3350 [==============================] - 0s 20us/step - loss: 3.8074e-04 - val_loss: 0.0018\n",
      "Epoch 40/100\n",
      "3350/3350 [==============================] - 0s 21us/step - loss: 4.3072e-04 - val_loss: 0.0019\n",
      "Epoch 41/100\n",
      "3350/3350 [==============================] - 0s 20us/step - loss: 2.6892e-04 - val_loss: 0.0023\n",
      "Epoch 42/100\n",
      "3350/3350 [==============================] - 0s 20us/step - loss: 3.5764e-04 - val_loss: 0.0018\n",
      "Epoch 43/100\n",
      "3350/3350 [==============================] - 0s 20us/step - loss: 1.5433e-04 - val_loss: 0.0018\n",
      "Epoch 44/100\n",
      "3350/3350 [==============================] - 0s 20us/step - loss: 1.2722e-04 - val_loss: 0.0017\n",
      "Epoch 45/100\n",
      "3350/3350 [==============================] - 0s 20us/step - loss: 1.2453e-04 - val_loss: 0.0017\n",
      "Epoch 46/100\n",
      "3350/3350 [==============================] - 0s 20us/step - loss: 8.1918e-05 - val_loss: 0.0020\n",
      "Epoch 47/100\n",
      "3350/3350 [==============================] - 0s 20us/step - loss: 8.7455e-05 - val_loss: 0.0017\n",
      "Epoch 48/100\n",
      "3350/3350 [==============================] - 0s 20us/step - loss: 8.7114e-05 - val_loss: 0.0017\n",
      "Epoch 49/100\n",
      "3350/3350 [==============================] - 0s 20us/step - loss: 1.3941e-04 - val_loss: 0.0017\n",
      "Epoch 50/100\n",
      "3350/3350 [==============================] - 0s 20us/step - loss: 2.1987e-04 - val_loss: 0.0018\n",
      "Epoch 51/100\n",
      "3350/3350 [==============================] - 0s 20us/step - loss: 1.1079e-04 - val_loss: 0.0018\n",
      "Epoch 52/100\n",
      "3350/3350 [==============================] - 0s 19us/step - loss: 4.2140e-04 - val_loss: 0.0019\n",
      "Epoch 53/100\n",
      "3350/3350 [==============================] - 0s 20us/step - loss: 2.6078e-04 - val_loss: 0.0018\n",
      "Epoch 54/100\n",
      "3350/3350 [==============================] - 0s 19us/step - loss: 1.8966e-04 - val_loss: 0.0018\n",
      "Epoch 55/100\n",
      "3350/3350 [==============================] - 0s 18us/step - loss: 1.1278e-04 - val_loss: 0.0017\n",
      "Epoch 56/100\n",
      "3350/3350 [==============================] - 0s 18us/step - loss: 8.1299e-05 - val_loss: 0.0017\n",
      "Epoch 57/100\n",
      "3350/3350 [==============================] - 0s 19us/step - loss: 2.0992e-04 - val_loss: 0.0016\n",
      "Epoch 58/100\n",
      "3350/3350 [==============================] - 0s 19us/step - loss: 1.4064e-04 - val_loss: 0.0019\n",
      "Epoch 59/100\n",
      "3350/3350 [==============================] - 0s 20us/step - loss: 2.2128e-04 - val_loss: 0.0017\n",
      "Epoch 60/100\n",
      "3350/3350 [==============================] - 0s 18us/step - loss: 1.3053e-04 - val_loss: 0.0016\n",
      "Epoch 61/100\n",
      "3350/3350 [==============================] - 0s 19us/step - loss: 3.5315e-04 - val_loss: 0.0017\n",
      "Epoch 62/100\n",
      "3350/3350 [==============================] - 0s 18us/step - loss: 2.2724e-04 - val_loss: 0.0018\n",
      "Epoch 63/100\n",
      "3350/3350 [==============================] - 0s 19us/step - loss: 2.6776e-04 - val_loss: 0.0017\n",
      "Epoch 64/100\n",
      "3350/3350 [==============================] - 0s 19us/step - loss: 1.5492e-04 - val_loss: 0.0018\n",
      "Epoch 65/100\n",
      "3350/3350 [==============================] - 0s 18us/step - loss: 2.4177e-04 - val_loss: 0.0025\n",
      "Epoch 66/100\n",
      "3350/3350 [==============================] - 0s 19us/step - loss: 2.6040e-04 - val_loss: 0.0017\n",
      "Epoch 67/100\n",
      "3350/3350 [==============================] - 0s 18us/step - loss: 1.3431e-04 - val_loss: 0.0016\n",
      "Epoch 68/100\n",
      "3350/3350 [==============================] - 0s 19us/step - loss: 8.9730e-05 - val_loss: 0.0016\n",
      "Epoch 69/100\n",
      "3350/3350 [==============================] - 0s 19us/step - loss: 7.0689e-05 - val_loss: 0.0016\n",
      "Epoch 70/100\n",
      "3350/3350 [==============================] - 0s 19us/step - loss: 7.1202e-05 - val_loss: 0.0016\n",
      "Epoch 71/100\n",
      "3350/3350 [==============================] - 0s 18us/step - loss: 8.7717e-05 - val_loss: 0.0015\n",
      "Epoch 72/100\n",
      "3350/3350 [==============================] - 0s 19us/step - loss: 7.6731e-05 - val_loss: 0.0016\n",
      "Epoch 73/100\n",
      "3350/3350 [==============================] - 0s 18us/step - loss: 1.0921e-04 - val_loss: 0.0015\n",
      "Epoch 74/100\n",
      "3350/3350 [==============================] - 0s 19us/step - loss: 6.8771e-05 - val_loss: 0.0015\n",
      "Epoch 75/100\n",
      "3350/3350 [==============================] - 0s 19us/step - loss: 1.3634e-04 - val_loss: 0.0018\n",
      "Epoch 76/100\n",
      "3350/3350 [==============================] - 0s 18us/step - loss: 1.4562e-04 - val_loss: 0.0016\n",
      "Epoch 77/100\n",
      "3350/3350 [==============================] - 0s 19us/step - loss: 8.4579e-05 - val_loss: 0.0016\n",
      "Epoch 78/100\n",
      "3350/3350 [==============================] - 0s 19us/step - loss: 8.4325e-05 - val_loss: 0.0015\n",
      "Epoch 79/100\n",
      "3350/3350 [==============================] - 0s 19us/step - loss: 9.9866e-05 - val_loss: 0.0015\n",
      "Epoch 80/100\n",
      "3350/3350 [==============================] - 0s 18us/step - loss: 3.6033e-04 - val_loss: 0.0016\n",
      "Epoch 81/100\n",
      "3350/3350 [==============================] - 0s 18us/step - loss: 2.0272e-04 - val_loss: 0.0019\n",
      "Epoch 82/100\n",
      "3350/3350 [==============================] - 0s 18us/step - loss: 2.7051e-04 - val_loss: 0.0015\n",
      "Epoch 83/100\n",
      "3350/3350 [==============================] - 0s 19us/step - loss: 2.2900e-04 - val_loss: 0.0015\n",
      "Epoch 84/100\n",
      "3350/3350 [==============================] - 0s 18us/step - loss: 9.1139e-05 - val_loss: 0.0014\n",
      "Epoch 85/100\n",
      "3350/3350 [==============================] - 0s 19us/step - loss: 6.7970e-05 - val_loss: 0.0014\n",
      "Epoch 86/100\n",
      "3350/3350 [==============================] - 0s 20us/step - loss: 1.2413e-04 - val_loss: 0.0015\n",
      "Epoch 87/100\n",
      "3350/3350 [==============================] - 0s 19us/step - loss: 1.9477e-04 - val_loss: 0.0014\n",
      "Epoch 88/100\n",
      "3350/3350 [==============================] - 0s 20us/step - loss: 7.0105e-05 - val_loss: 0.0014\n",
      "Epoch 89/100\n",
      "3350/3350 [==============================] - 0s 20us/step - loss: 8.1347e-05 - val_loss: 0.0014\n",
      "Epoch 90/100\n",
      "3350/3350 [==============================] - 0s 19us/step - loss: 7.0587e-05 - val_loss: 0.0014\n",
      "Epoch 91/100\n",
      "3350/3350 [==============================] - 0s 19us/step - loss: 6.6642e-05 - val_loss: 0.0014\n",
      "Epoch 92/100\n",
      "3350/3350 [==============================] - 0s 18us/step - loss: 7.6651e-05 - val_loss: 0.0015\n",
      "Epoch 93/100\n",
      "3350/3350 [==============================] - 0s 19us/step - loss: 1.9916e-04 - val_loss: 0.0014\n",
      "Epoch 94/100\n",
      "3350/3350 [==============================] - 0s 18us/step - loss: 7.7098e-05 - val_loss: 0.0014\n",
      "Epoch 95/100\n",
      "3350/3350 [==============================] - 0s 18us/step - loss: 8.0648e-05 - val_loss: 0.0014\n",
      "Epoch 96/100\n",
      "3350/3350 [==============================] - 0s 20us/step - loss: 8.8086e-05 - val_loss: 0.0015\n",
      "Epoch 97/100\n",
      "3350/3350 [==============================] - 0s 18us/step - loss: 1.4877e-04 - val_loss: 0.0019\n",
      "Epoch 98/100\n",
      "3350/3350 [==============================] - 0s 20us/step - loss: 1.8819e-04 - val_loss: 0.0015\n",
      "Epoch 99/100\n",
      "3350/3350 [==============================] - 0s 19us/step - loss: 1.7048e-04 - val_loss: 0.0015\n",
      "Epoch 100/100\n",
      "3350/3350 [==============================] - 0s 21us/step - loss: 1.1905e-04 - val_loss: 0.0014\n"
     ]
    }
   ],
   "source": [
    "history = model3.fit(x=X_trainK, y=Y_trainK, batch_size=64, epochs=100, validation_data=(X_testK, Y_testK))"
   ]
  },
  {
   "cell_type": "code",
   "execution_count": 54,
   "metadata": {},
   "outputs": [
    {
     "name": "stdout",
     "output_type": "stream",
     "text": [
      "MSE :  0.001403084344643398\n"
     ]
    }
   ],
   "source": [
    "predsK = model3.predict(X_testK)\n",
    "print('MSE : ', mean_squared_error(predsK, Y_testK))"
   ]
  },
  {
   "cell_type": "code",
   "execution_count": 55,
   "metadata": {},
   "outputs": [
    {
     "data": {
      "text/plain": [
       "Text(0, 0.5, 'count')"
      ]
     },
     "execution_count": 55,
     "metadata": {},
     "output_type": "execute_result"
    },
    {
     "data": {
      "image/png": "[encoded data removed]",
      "text/plain": [
       "<Figure size 720x720 with 1 Axes>"
      ]
     },
     "metadata": {
      "needs_background": "light"
     },
     "output_type": "display_data"
    }
   ],
   "source": [
    "plt.figure(figsize=(10,10))\n",
    "Y_hist = plt.hist(Y_testK, 50, (0,1.1),histtype=\"stepfilled\",alpha= 0.4, color ='r')\n",
    "plt.title(\"Y_test\")\n",
    "pred_hist = plt.hist(predsK, 50, (0,1.1),histtype=\"stepfilled\",alpha= 0.4, color ='b')\n",
    "plt.legend([\"real labels\", \"estimated\"], loc='upper right')\n",
    "plt.xlabel(\"coupling\", fontsize = 14)\n",
    "plt.ylabel(\"count\",  fontsize = 14)"
   ]
  },
  {
   "cell_type": "code",
   "execution_count": null,
   "metadata": {},
   "outputs": [],
   "source": []
  }
 ],
 "metadata": {
  "colab": {
   "collapsed_sections": [],
   "name": "nagyhf_begin.ipynb",
   "provenance": [],
   "toc_visible": true,
   "version": "0.3.2"
  },
  "kernelspec": {
   "display_name": "Python 3",
   "language": "python",
   "name": "python3"
  },
  "language_info": {
   "codemirror_mode": {
    "name": "ipython",
    "version": 3
   },
   "file_extension": ".py",
   "mimetype": "text/x-python",
   "name": "python",
   "nbconvert_exporter": "python",
   "pygments_lexer": "ipython3",
   "version": "3.7.0"
  }
 },
 "nbformat": 4,
 "nbformat_minor": 1
}
