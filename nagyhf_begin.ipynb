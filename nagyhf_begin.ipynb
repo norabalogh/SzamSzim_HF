{
 "cells": [
  {
   "cell_type": "markdown",
   "metadata": {},
   "source": [
    "# Project work \n",
    "## Balogh Nóra, gyulai László, Vargha Noémi"
   ]
  },
  {
   "cell_type": "markdown",
   "metadata": {},
   "source": [
    "In this project we have implemented 2 dimensional Ising model with Monte-Carlo simulation. We aimed to train neural networks based on the simulation results. \n",
    "The main parts of our work:\n",
    "1. Implementing Monte-Carlo simulation code for the Ising model\n",
    "2. Generating training data\n",
    "3. "
   ]
  },
  {
   "cell_type": "markdown",
   "metadata": {
    "colab_type": "text",
    "id": "E4bZlE_Pdw23"
   },
   "source": [
    "Feladatok:\n",
    "1. training data generáló függvény\n",
    "\n",
    "2. adat feldolgozás\n",
    "  *   fejléc: size,h,k,M,E,[mátrix]\n",
    "  *   kimenet: megnézni, hogy mit kér a háló (kép, vagy adatsor)\n",
    "  *   labels/tareget:\n",
    "      - 1. M, E\n",
    "      - 2. K\n",
    "      - 3. h\n",
    "   * train_test_split\n",
    "3. neurális háló"
   ]
  },
  {
   "cell_type": "markdown",
   "metadata": {
    "colab_type": "text",
    "id": "7qv6ca0WfX6H"
   },
   "source": [
    "Ideas:\n",
    "\n",
    "https://arxiv.org/pdf/1706.09779.pdf\n"
   ]
  },
  {
   "cell_type": "code",
   "execution_count": 1,
   "metadata": {
    "colab": {},
    "colab_type": "code",
    "id": "qoBa55hQJTpt"
   },
   "outputs": [],
   "source": [
    "import numpy as np\n",
    "import pandas as pd\n",
    "import matplotlib.pyplot as plt\n",
    "import csv\n",
    "from numpy.random import rand\n",
    "from numpy.random import randint"
   ]
  },
  {
   "cell_type": "code",
   "execution_count": 2,
   "metadata": {},
   "outputs": [],
   "source": [
    "import random"
   ]
  },
  {
   "cell_type": "code",
   "execution_count": 3,
   "metadata": {},
   "outputs": [
    {
     "name": "stderr",
     "output_type": "stream",
     "text": [
      "Using TensorFlow backend.\n"
     ]
    }
   ],
   "source": [
    "from sklearn.model_selection import train_test_split\n",
    "from keras.models import Sequential\n",
    "from keras.layers.core import Dense\n",
    "from keras.optimizers import SGD, Adam\n",
    "from sklearn.preprocessing import MinMaxScaler"
   ]
  },
  {
   "cell_type": "markdown",
   "metadata": {
    "colab_type": "text",
    "id": "ZTl2-2RKSfm6"
   },
   "source": [
    "# 1. Monte-Carlo simulation code for the Ising model\n"
   ]
  },
  {
   "cell_type": "markdown",
   "metadata": {
    "colab_type": "text",
    "id": "p2d2NEVtSmEW"
   },
   "source": [
    "We used a square lattice od size LxL=10x10. Each cell in the square lattice has spin $\\sigma_i=\\pm 1$ which is initialized randomly. The Hamiltonian of the system is:\n",
    "\n",
    "$$ H=-K\\sum_{\\langle i\\mathrm{,}j \\rangle} \\sigma_i \\sigma_J - h\\sum_{i}\\sigma_i$$\n",
    "where the summation runs over the nearest neighbors, $K$ is coupling strength between the nearest neighbors and $h$ is the external field."
   ]
  },
  {
   "cell_type": "markdown",
   "metadata": {
    "colab_type": "text",
    "id": "dFT3jjyDStN_"
   },
   "source": [
    "assiged each lattice cell a random spin of $\\pm 1$ with the function below:"
   ]
  },
  {
   "cell_type": "markdown",
   "metadata": {
    "colab": {},
    "colab_type": "code",
    "id": "g0O5SC8tJRMZ"
   },
   "source": [
    "Parameters of the 2D Ising model: \n",
    "* hi: interaction with external field\n",
    "* Kij: interactions between neighbours"
   ]
  },
  {
   "cell_type": "code",
   "execution_count": 4,
   "metadata": {
    "colab": {},
    "colab_type": "code",
    "id": "28fAGGEnKJat"
   },
   "outputs": [],
   "source": [
    "def initialize(L):   \n",
    "    ''' generates a random spin (+1 or -1) configuration for initial condition'''\n",
    "    state = 2*np.random.randint(2, size=(L,L))-1\n",
    "    return state #square lattice, cells filled randomly with +1 or -1"
   ]
  },
  {
   "cell_type": "markdown",
   "metadata": {
    "colab_type": "text",
    "id": "xdGrBwzFSyfc"
   },
   "source": [
    "Magnetization is the average value of the spin. (Source: https://en.wikipedia.org/wiki/Ising_model). The energy of a configuration is calculated from the Hamiltonian."
   ]
  },
  {
   "cell_type": "code",
   "execution_count": 5,
   "metadata": {
    "colab": {},
    "colab_type": "code",
    "id": "EjFP3RE7SVH4"
   },
   "outputs": [],
   "source": [
    "def magnetization(config):\n",
    "    '''Magnetization of a given configuration'''\n",
    "    mag = np.sum(config)/(config.shape[0]*config.shape[1])\n",
    "    return mag\n",
    "\n",
    "def Energy(config, h, K):\n",
    "    '''Calculates energy of a given configuration'''\n",
    "    energy = 0\n",
    "    L=len(config)\n",
    "    for i in range(L):\n",
    "        for j in range(L):\n",
    "            S = config[i,j]\n",
    "            energy-=h*S\n",
    "            #neighbors with periodic boundary conditions\n",
    "            neighbors = config[(i+1)%L, j] + config[i,(j+1)%L] + config[(i-1)%L, j] + config[i,(j-1)%L] \n",
    "            energy -= K*neighbors*S\n",
    "    return energy"
   ]
  },
  {
   "cell_type": "markdown",
   "metadata": {
    "colab_type": "text",
    "id": "vTBgIHiUS32d"
   },
   "source": [
    "One Monte Carlo timestep consists of LxL elementary step in which a spin is chosen randomly and flipped according to the Metropolis probabilities. \n",
    "\n",
    "In each elementary step we randomly choose a lattice point with spin $s$. If the spin is flipped, the cost is $\\Delta E=E_{flipped}-E_{original}$. From the Hamiltonian:\n",
    "\n",
    "$$\\Delta E= 2hs-2Ks\\cdot nb$$\n",
    "\n",
    "where $nb$ is the sum of the spins of the nearest neighbors of s. The function \"mcmove\" below calculates this cost and flips the spin if $\\Delta E < 0$ and flips this spin with probability $p=\\exp(\\beta\\cdot\\Delta E)$ if $E>0$. ($\\beta=\\frac{1}{k_bT}$)"
   ]
  },
  {
   "cell_type": "code",
   "execution_count": 6,
   "metadata": {
    "colab": {},
    "colab_type": "code",
    "id": "PHj-h6pISXv9"
   },
   "outputs": [],
   "source": [
    "def mcmove(config, beta, h, K):\n",
    "    '''Monte Carlo move using Metropolis algorithm '''\n",
    "    L=len(config)\n",
    "    for i in range(L):\n",
    "        for j in range(L):\n",
    "                a = np.random.randint(0, L)\n",
    "                b = np.random.randint(0, L)\n",
    "                s =  config[a, b]\n",
    "                neighbors = config[(a+1)%L,b] + config[a,(b+1)%L] + config[(a-1)%L,b] + config[a,(b-1)%L]\n",
    "                #cost=difference between energies\n",
    "                cost = 2*h*s + 2*K*neighbors*s\n",
    "                if cost < 0:\n",
    "                    s *= -1\n",
    "                elif np.random.rand() < np.exp(-cost*beta):\n",
    "                    s *= -1\n",
    "                config[a, b] = s\n",
    "    return config"
   ]
  },
  {
   "cell_type": "markdown",
   "metadata": {
    "colab_type": "text",
    "id": "ks2guv5cTBx1"
   },
   "source": [
    "Use Monte carlo step as: config=mcmove(config, beta, h, K)"
   ]
  },
  {
   "cell_type": "markdown",
   "metadata": {
    "colab_type": "text",
    "id": "MdXA43BDTjlZ"
   },
   "source": [
    "# 2. Training data generation"
   ]
  },
  {
   "cell_type": "markdown",
   "metadata": {},
   "source": [
    "## 2.1 Generation of lattices for energy and magnetization prediction"
   ]
  },
  {
   "cell_type": "code",
   "execution_count": 7,
   "metadata": {
    "colab": {
     "base_uri": "https://localhost:8080/",
     "height": 129
    },
    "colab_type": "code",
    "id": "W6Jwrf4HVCq3",
    "outputId": "a5b3d795-ac88-45f8-da39-9ae019e7ce12"
   },
   "outputs": [],
   "source": [
    "K=1\n",
    "beta=0.2\n",
    "L=10\n",
    "h=5\n",
    "timesteps = 500\n",
    "iterations = 20\n",
    "config_data=[]\n",
    "\n",
    "\n",
    "for i in range(iterations):\n",
    "    config=initialize(L)\n",
    "    E,M=np.zeros(timesteps), np.zeros(timesteps)\n",
    "    M0=np.zeros(timesteps)\n",
    "    for t in range(timesteps):\n",
    "        E[t]=Energy(config, h, K)\n",
    "        M[t]=magnetization(config)\n",
    "        row1 = [E[t]]+[M[t]]+list(config.flatten())\n",
    "        config_data.append(row1)\n",
    "        config=mcmove(config, beta, h, K)"
   ]
  },
  {
   "cell_type": "code",
   "execution_count": 8,
   "metadata": {},
   "outputs": [
    {
     "data": {
      "text/plain": [
       "10000"
      ]
     },
     "execution_count": 8,
     "metadata": {},
     "output_type": "execute_result"
    }
   ],
   "source": [
    "len(config_data)"
   ]
  },
  {
   "cell_type": "markdown",
   "metadata": {},
   "source": [
    "We will store in a .csv file the following features of each generated lattice:\n",
    "* energy\n",
    "* magnetization\n",
    "* config: the lattice configuration (array of +1, -1 values)"
   ]
  },
  {
   "cell_type": "code",
   "execution_count": 9,
   "metadata": {
    "colab": {
     "base_uri": "https://localhost:8080/",
     "height": 54
    },
    "colab_type": "code",
    "id": "k5iEJOKFVVu-",
    "outputId": "0f2d04eb-20ab-42df-8d6c-5194c86e8a90"
   },
   "outputs": [],
   "source": [
    "with open('training_data.csv', 'w+', newline='') as writeFile:\n",
    "    writer = csv.writer(writeFile)\n",
    "    writer.writerows(config_data)\n",
    "writeFile.close()"
   ]
  },
  {
   "cell_type": "markdown",
   "metadata": {},
   "source": [
    "## 2.2. Training data generation for coupling strength prediction "
   ]
  },
  {
   "cell_type": "markdown",
   "metadata": {},
   "source": [
    "In each iteration we use different coupling strength and step "
   ]
  },
  {
   "cell_type": "code",
   "execution_count": 10,
   "metadata": {},
   "outputs": [],
   "source": [
    "K=1\n",
    "beta=0.2\n",
    "L=10\n",
    "h=5\n",
    "timesteps = 10\n",
    "iterations = 5000\n",
    "config_data=[]\n",
    "\n",
    "E,M=np.zeros(iterations), np.zeros(iterations)\n",
    "#Klist=[j/1000 for j in range(iterations)]\n",
    "for i in range(iterations):\n",
    "    K=random.random()*2  # k is a random value between 0 and 2\n",
    "    config=initialize(L)\n",
    "    for t in range(timesteps):\n",
    "        config=mcmove(config, beta, h, K)\n",
    "    E[i]=Energy(config, h, K)\n",
    "    M[i]=magnetization(config)\n",
    "    row1 = [K]+[E[i]]+[M[i]]+list(config.flatten())\n",
    "    config_data.append(row1)"
   ]
  },
  {
   "cell_type": "code",
   "execution_count": 187,
   "metadata": {},
   "outputs": [
    {
     "data": {
      "text/plain": [
       "5000"
      ]
     },
     "execution_count": 187,
     "metadata": {},
     "output_type": "execute_result"
    }
   ],
   "source": [
    "len(config_data)"
   ]
  },
  {
   "cell_type": "code",
   "execution_count": 188,
   "metadata": {},
   "outputs": [],
   "source": [
    "with open('training_data2.csv', 'w+', newline='') as writeFile:\n",
    "    writer = csv.writer(writeFile)\n",
    "    writer.writerows(config_data)\n",
    "writeFile.close()"
   ]
  },
  {
   "cell_type": "markdown",
   "metadata": {},
   "source": [
    "# 3. Neural Network learns to calculate energy and magnetization"
   ]
  },
  {
   "cell_type": "markdown",
   "metadata": {},
   "source": [
    "## 3.1. Loading the data"
   ]
  },
  {
   "cell_type": "code",
   "execution_count": 49,
   "metadata": {},
   "outputs": [],
   "source": [
    "traindata = pd.read_csv(\"training_data.csv\", names=[\"E\"]+[\"M\"]+[i for i in range(L*L)])"
   ]
  },
  {
   "cell_type": "code",
   "execution_count": 53,
   "metadata": {},
   "outputs": [],
   "source": [
    "trainlabelsE=traindata[\"E\"].values\n",
    "trainlabelsM=traindata[\"M\"].values"
   ]
  },
  {
   "cell_type": "code",
   "execution_count": 192,
   "metadata": {},
   "outputs": [],
   "source": [
    "train_attrs=traindata.drop(columns=[\"E\", \"M\"])"
   ]
  },
  {
   "cell_type": "code",
   "execution_count": null,
   "metadata": {},
   "outputs": [],
   "source": []
  },
  {
   "cell_type": "markdown",
   "metadata": {},
   "source": [
    "# "
   ]
  },
  {
   "cell_type": "markdown",
   "metadata": {},
   "source": [
    "# Loading the data"
   ]
  },
  {
   "cell_type": "code",
   "execution_count": 189,
   "metadata": {},
   "outputs": [],
   "source": [
    "traindata2 = pd.read_csv(\"training_data2.csv\", names=[\"K\"]+[\"E\"]+[\"M\"]+[i for i in range(L*L)])"
   ]
  },
  {
   "cell_type": "code",
   "execution_count": 190,
   "metadata": {},
   "outputs": [],
   "source": [
    "trainlabelsK=traindata2[\"K\"].values"
   ]
  },
  {
   "cell_type": "code",
   "execution_count": 191,
   "metadata": {},
   "outputs": [],
   "source": [
    "train_attrs2=traindata2.drop(columns=[\"K\"])"
   ]
  },
  {
   "cell_type": "code",
   "execution_count": 89,
   "metadata": {},
   "outputs": [],
   "source": []
  },
  {
   "cell_type": "code",
   "execution_count": 91,
   "metadata": {
    "scrolled": true
   },
   "outputs": [
    {
     "data": {
      "text/plain": [
       "1.0"
      ]
     },
     "execution_count": 91,
     "metadata": {},
     "output_type": "execute_result"
    }
   ],
   "source": [
    "max(trainlabelsM)"
   ]
  },
  {
   "cell_type": "code",
   "execution_count": 92,
   "metadata": {},
   "outputs": [
    {
     "data": {
      "text/plain": [
       "-0.12"
      ]
     },
     "execution_count": 92,
     "metadata": {},
     "output_type": "execute_result"
    }
   ],
   "source": [
    "min(trainlabelsM)"
   ]
  },
  {
   "cell_type": "code",
   "execution_count": 93,
   "metadata": {
    "scrolled": true
   },
   "outputs": [
    {
     "data": {
      "text/plain": [
       "numpy.ndarray"
      ]
     },
     "execution_count": 93,
     "metadata": {},
     "output_type": "execute_result"
    }
   ],
   "source": [
    "type(trainlabelsM)"
   ]
  },
  {
   "cell_type": "code",
   "execution_count": 94,
   "metadata": {},
   "outputs": [
    {
     "data": {
      "text/plain": [
       "array([0.02, 0.52, 0.74, ..., 0.96, 0.92, 0.96])"
      ]
     },
     "execution_count": 94,
     "metadata": {},
     "output_type": "execute_result"
    }
   ],
   "source": [
    "trainlabelsM"
   ]
  },
  {
   "cell_type": "code",
   "execution_count": 95,
   "metadata": {},
   "outputs": [],
   "source": [
    "trainlabelsM=(trainlabelsM-(-1))/(1-(-1))"
   ]
  },
  {
   "cell_type": "code",
   "execution_count": 96,
   "metadata": {},
   "outputs": [
    {
     "data": {
      "text/plain": [
       "array([0.51, 0.76, 0.87, ..., 0.98, 0.96, 0.98])"
      ]
     },
     "execution_count": 96,
     "metadata": {},
     "output_type": "execute_result"
    }
   ],
   "source": [
    "trainlabelsM"
   ]
  },
  {
   "cell_type": "code",
   "execution_count": 97,
   "metadata": {},
   "outputs": [],
   "source": [
    "X_train, X_test, Y_train, Y_test = train_test_split(train_attrs, trainlabelsM, test_size=0.33, random_state=0)"
   ]
  },
  {
   "cell_type": "code",
   "execution_count": 98,
   "metadata": {},
   "outputs": [
    {
     "data": {
      "text/plain": [
       "((6700, 100), (6700,), (3300, 100), (3300,))"
      ]
     },
     "execution_count": 98,
     "metadata": {},
     "output_type": "execute_result"
    }
   ],
   "source": [
    "X_train.shape, Y_train.shape, X_test.shape, Y_test.shape"
   ]
  },
  {
   "cell_type": "code",
   "execution_count": 99,
   "metadata": {},
   "outputs": [],
   "source": [
    "model = Sequential()\n",
    "model.add(Dense(100, input_dim=100, activation='relu'))\n",
    "model.add(Dense(1, activation='relu'))"
   ]
  },
  {
   "cell_type": "code",
   "execution_count": 100,
   "metadata": {},
   "outputs": [
    {
     "name": "stdout",
     "output_type": "stream",
     "text": [
      "_________________________________________________________________\n",
      "Layer (type)                 Output Shape              Param #   \n",
      "=================================================================\n",
      "dense_9 (Dense)              (None, 100)               10100     \n",
      "_________________________________________________________________\n",
      "dense_10 (Dense)             (None, 1)                 101       \n",
      "=================================================================\n",
      "Total params: 10,201\n",
      "Trainable params: 10,201\n",
      "Non-trainable params: 0\n",
      "_________________________________________________________________\n"
     ]
    }
   ],
   "source": [
    "model.summary()"
   ]
  },
  {
   "cell_type": "code",
   "execution_count": 119,
   "metadata": {},
   "outputs": [],
   "source": [
    "model.compile(loss='mean_squared_error', optimizer='adam')"
   ]
  },
  {
   "cell_type": "code",
   "execution_count": 120,
   "metadata": {
    "scrolled": false
   },
   "outputs": [
    {
     "name": "stdout",
     "output_type": "stream",
     "text": [
      "Train on 6700 samples, validate on 3300 samples\n",
      "Epoch 1/100\n",
      "6700/6700 [==============================] - 0s 63us/step - loss: 9.1564e-04 - val_loss: 8.7617e-05\n",
      "Epoch 2/100\n",
      "6700/6700 [==============================] - 0s 24us/step - loss: 2.0900e-05 - val_loss: 6.7064e-05\n",
      "Epoch 3/100\n",
      "6700/6700 [==============================] - 0s 23us/step - loss: 2.1068e-05 - val_loss: 1.0166e-04\n",
      "Epoch 4/100\n",
      "6700/6700 [==============================] - 0s 22us/step - loss: 2.6724e-05 - val_loss: 6.3427e-05\n",
      "Epoch 5/100\n",
      "6700/6700 [==============================] - 0s 22us/step - loss: 1.2448e-05 - val_loss: 7.0155e-05\n",
      "Epoch 6/100\n",
      "6700/6700 [==============================] - 0s 23us/step - loss: 1.1392e-05 - val_loss: 5.7603e-05\n",
      "Epoch 7/100\n",
      "6700/6700 [==============================] - 0s 22us/step - loss: 4.1275e-05 - val_loss: 1.6797e-04\n",
      "Epoch 8/100\n",
      "6700/6700 [==============================] - 0s 22us/step - loss: 8.0378e-05 - val_loss: 6.5883e-05\n",
      "Epoch 9/100\n",
      "6700/6700 [==============================] - 0s 22us/step - loss: 1.2076e-04 - val_loss: 9.1684e-05\n",
      "Epoch 10/100\n",
      "6700/6700 [==============================] - 0s 22us/step - loss: 3.5603e-05 - val_loss: 1.5618e-04\n",
      "Epoch 11/100\n",
      "6700/6700 [==============================] - 0s 22us/step - loss: 1.1303e-04 - val_loss: 9.4105e-05\n",
      "Epoch 12/100\n",
      "6700/6700 [==============================] - 0s 22us/step - loss: 6.0583e-05 - val_loss: 8.1875e-05\n",
      "Epoch 13/100\n",
      "6700/6700 [==============================] - 0s 22us/step - loss: 7.0207e-05 - val_loss: 1.5580e-04\n",
      "Epoch 14/100\n",
      "6700/6700 [==============================] - 0s 23us/step - loss: 6.5184e-05 - val_loss: 6.3218e-05\n",
      "Epoch 15/100\n",
      "6700/6700 [==============================] - 0s 22us/step - loss: 9.4633e-05 - val_loss: 1.5816e-04\n",
      "Epoch 16/100\n",
      "6700/6700 [==============================] - 0s 22us/step - loss: 5.4746e-05 - val_loss: 9.8629e-05\n",
      "Epoch 17/100\n",
      "6700/6700 [==============================] - 0s 22us/step - loss: 5.9973e-05 - val_loss: 2.0471e-04\n",
      "Epoch 18/100\n",
      "6700/6700 [==============================] - 0s 22us/step - loss: 6.0595e-05 - val_loss: 1.4119e-04\n",
      "Epoch 19/100\n",
      "6700/6700 [==============================] - 0s 24us/step - loss: 8.5788e-05 - val_loss: 1.4809e-04\n",
      "Epoch 20/100\n",
      "6700/6700 [==============================] - 0s 23us/step - loss: 5.0184e-05 - val_loss: 1.4935e-04\n",
      "Epoch 21/100\n",
      "6700/6700 [==============================] - 0s 25us/step - loss: 7.8490e-05 - val_loss: 1.7583e-04\n",
      "Epoch 22/100\n",
      "6700/6700 [==============================] - 0s 25us/step - loss: 6.4175e-05 - val_loss: 9.5871e-05\n",
      "Epoch 23/100\n",
      "6700/6700 [==============================] - 0s 22us/step - loss: 7.0334e-05 - val_loss: 1.0095e-04\n",
      "Epoch 24/100\n",
      "6700/6700 [==============================] - 0s 22us/step - loss: 4.6352e-05 - val_loss: 3.7959e-04\n",
      "Epoch 25/100\n",
      "6700/6700 [==============================] - 0s 22us/step - loss: 6.3040e-05 - val_loss: 1.8743e-04\n",
      "Epoch 26/100\n",
      "6700/6700 [==============================] - 0s 22us/step - loss: 7.4954e-05 - val_loss: 1.2332e-04\n",
      "Epoch 27/100\n",
      "6700/6700 [==============================] - 0s 23us/step - loss: 7.1813e-05 - val_loss: 1.4792e-04\n",
      "Epoch 28/100\n",
      "6700/6700 [==============================] - 0s 22us/step - loss: 5.5691e-05 - val_loss: 1.0767e-04\n",
      "Epoch 29/100\n",
      "6700/6700 [==============================] - 0s 24us/step - loss: 4.9191e-05 - val_loss: 8.6910e-05\n",
      "Epoch 30/100\n",
      "6700/6700 [==============================] - 0s 25us/step - loss: 1.2072e-04 - val_loss: 9.8178e-05\n",
      "Epoch 31/100\n",
      "6700/6700 [==============================] - 0s 22us/step - loss: 2.0761e-05 - val_loss: 1.0596e-04\n",
      "Epoch 32/100\n",
      "6700/6700 [==============================] - 0s 22us/step - loss: 6.3649e-05 - val_loss: 2.1489e-04\n",
      "Epoch 33/100\n",
      "6700/6700 [==============================] - 0s 26us/step - loss: 6.0590e-05 - val_loss: 9.4615e-05\n",
      "Epoch 34/100\n",
      "6700/6700 [==============================] - 0s 24us/step - loss: 3.8090e-05 - val_loss: 9.2219e-05\n",
      "Epoch 35/100\n",
      "6700/6700 [==============================] - 0s 22us/step - loss: 7.9631e-05 - val_loss: 1.3629e-04\n",
      "Epoch 36/100\n",
      "6700/6700 [==============================] - 0s 22us/step - loss: 5.3275e-05 - val_loss: 3.1267e-04\n",
      "Epoch 37/100\n",
      "6700/6700 [==============================] - 0s 22us/step - loss: 3.8345e-05 - val_loss: 1.7964e-04\n",
      "Epoch 38/100\n",
      "6700/6700 [==============================] - 0s 22us/step - loss: 7.7989e-05 - val_loss: 8.7461e-05\n",
      "Epoch 39/100\n",
      "6700/6700 [==============================] - 0s 23us/step - loss: 6.6540e-05 - val_loss: 1.1150e-04\n",
      "Epoch 40/100\n",
      "6700/6700 [==============================] - 0s 23us/step - loss: 6.2521e-05 - val_loss: 1.8994e-04\n",
      "Epoch 41/100\n",
      "6700/6700 [==============================] - 0s 22us/step - loss: 3.7425e-05 - val_loss: 1.0586e-04\n",
      "Epoch 42/100\n",
      "6700/6700 [==============================] - 0s 23us/step - loss: 8.3088e-05 - val_loss: 8.7077e-05\n",
      "Epoch 43/100\n",
      "6700/6700 [==============================] - 0s 23us/step - loss: 2.1691e-05 - val_loss: 1.4305e-04\n",
      "Epoch 44/100\n",
      "6700/6700 [==============================] - 0s 25us/step - loss: 1.0308e-04 - val_loss: 1.0411e-04\n",
      "Epoch 45/100\n",
      "6700/6700 [==============================] - 0s 22us/step - loss: 2.2447e-05 - val_loss: 7.2787e-05\n",
      "Epoch 46/100\n",
      "6700/6700 [==============================] - 0s 26us/step - loss: 3.3206e-05 - val_loss: 1.3500e-04\n",
      "Epoch 47/100\n",
      "6700/6700 [==============================] - 0s 26us/step - loss: 7.0208e-05 - val_loss: 8.4790e-05\n",
      "Epoch 48/100\n",
      "6700/6700 [==============================] - 0s 23us/step - loss: 4.1142e-05 - val_loss: 7.0077e-05\n",
      "Epoch 49/100\n",
      "6700/6700 [==============================] - 0s 22us/step - loss: 5.8883e-05 - val_loss: 9.1758e-05\n",
      "Epoch 50/100\n",
      "6700/6700 [==============================] - 0s 23us/step - loss: 4.1245e-05 - val_loss: 0.0010\n",
      "Epoch 51/100\n",
      "6700/6700 [==============================] - 0s 23us/step - loss: 6.4801e-05 - val_loss: 6.9781e-05\n",
      "Epoch 52/100\n",
      "6700/6700 [==============================] - 0s 23us/step - loss: 4.3144e-05 - val_loss: 8.2047e-05\n",
      "Epoch 53/100\n",
      "6700/6700 [==============================] - 0s 23us/step - loss: 5.2509e-05 - val_loss: 1.4120e-04\n",
      "Epoch 54/100\n",
      "6700/6700 [==============================] - 0s 22us/step - loss: 5.9102e-05 - val_loss: 1.6049e-04\n",
      "Epoch 55/100\n",
      "6700/6700 [==============================] - 0s 22us/step - loss: 3.1468e-05 - val_loss: 8.2004e-05\n",
      "Epoch 56/100\n",
      "6700/6700 [==============================] - 0s 22us/step - loss: 6.2887e-05 - val_loss: 1.5445e-04\n",
      "Epoch 57/100\n",
      "6700/6700 [==============================] - 0s 22us/step - loss: 2.8193e-05 - val_loss: 1.1979e-04\n",
      "Epoch 58/100\n",
      "6700/6700 [==============================] - 0s 23us/step - loss: 6.3159e-05 - val_loss: 8.9022e-05\n",
      "Epoch 59/100\n",
      "6700/6700 [==============================] - 0s 22us/step - loss: 4.7430e-05 - val_loss: 6.5298e-05\n",
      "Epoch 60/100\n",
      "6700/6700 [==============================] - 0s 22us/step - loss: 3.2163e-05 - val_loss: 1.4843e-04\n",
      "Epoch 61/100\n",
      "6700/6700 [==============================] - 0s 22us/step - loss: 8.7798e-05 - val_loss: 1.5636e-04\n",
      "Epoch 62/100\n",
      "6700/6700 [==============================] - 0s 24us/step - loss: 2.2588e-05 - val_loss: 6.3540e-05\n",
      "Epoch 63/100\n",
      "6700/6700 [==============================] - 0s 24us/step - loss: 3.0758e-05 - val_loss: 5.5897e-05\n",
      "Epoch 64/100\n",
      "6700/6700 [==============================] - 0s 24us/step - loss: 7.1744e-05 - val_loss: 6.7922e-05\n",
      "Epoch 65/100\n",
      "6700/6700 [==============================] - 0s 24us/step - loss: 2.2162e-05 - val_loss: 1.0959e-04\n",
      "Epoch 66/100\n",
      "6700/6700 [==============================] - 0s 24us/step - loss: 6.3420e-05 - val_loss: 9.6461e-05\n",
      "Epoch 67/100\n",
      "6700/6700 [==============================] - 0s 22us/step - loss: 2.3396e-05 - val_loss: 2.9059e-04\n",
      "Epoch 68/100\n",
      "6700/6700 [==============================] - 0s 24us/step - loss: 7.2875e-05 - val_loss: 5.8689e-05\n",
      "Epoch 69/100\n",
      "6700/6700 [==============================] - 0s 23us/step - loss: 3.4696e-05 - val_loss: 5.1729e-05\n",
      "Epoch 70/100\n",
      "6700/6700 [==============================] - 0s 24us/step - loss: 2.7825e-05 - val_loss: 4.8700e-05\n",
      "Epoch 71/100\n",
      "6700/6700 [==============================] - 0s 24us/step - loss: 4.4659e-05 - val_loss: 4.8446e-05\n",
      "Epoch 72/100\n",
      "6700/6700 [==============================] - 0s 23us/step - loss: 5.6822e-05 - val_loss: 6.2089e-05\n",
      "Epoch 73/100\n",
      "6700/6700 [==============================] - 0s 24us/step - loss: 3.1455e-05 - val_loss: 4.8126e-05\n",
      "Epoch 74/100\n",
      "6700/6700 [==============================] - 0s 23us/step - loss: 3.8039e-05 - val_loss: 5.0330e-05\n",
      "Epoch 75/100\n",
      "6700/6700 [==============================] - 0s 23us/step - loss: 4.8658e-05 - val_loss: 7.1178e-05\n",
      "Epoch 76/100\n",
      "6700/6700 [==============================] - 0s 23us/step - loss: 2.5795e-05 - val_loss: 4.5331e-05\n",
      "Epoch 77/100\n",
      "6700/6700 [==============================] - 0s 22us/step - loss: 4.8680e-05 - val_loss: 4.4901e-05\n",
      "Epoch 78/100\n",
      "6700/6700 [==============================] - 0s 23us/step - loss: 6.1085e-05 - val_loss: 4.8984e-05\n",
      "Epoch 79/100\n",
      "6700/6700 [==============================] - 0s 23us/step - loss: 1.5676e-05 - val_loss: 6.3148e-05\n",
      "Epoch 80/100\n",
      "6700/6700 [==============================] - 0s 24us/step - loss: 5.4571e-05 - val_loss: 6.3398e-05\n",
      "Epoch 81/100\n",
      "6700/6700 [==============================] - 0s 22us/step - loss: 3.5151e-05 - val_loss: 2.1019e-04\n",
      "Epoch 82/100\n",
      "6700/6700 [==============================] - 0s 23us/step - loss: 3.1313e-05 - val_loss: 8.3907e-05\n",
      "Epoch 83/100\n",
      "6700/6700 [==============================] - 0s 24us/step - loss: 6.1366e-05 - val_loss: 8.1717e-05\n",
      "Epoch 84/100\n",
      "6700/6700 [==============================] - 0s 23us/step - loss: 1.6458e-05 - val_loss: 4.2932e-05\n",
      "Epoch 85/100\n",
      "6700/6700 [==============================] - 0s 23us/step - loss: 5.0256e-05 - val_loss: 2.5407e-04\n",
      "Epoch 86/100\n",
      "6700/6700 [==============================] - 0s 24us/step - loss: 2.4775e-05 - val_loss: 4.9913e-05\n",
      "Epoch 87/100\n",
      "6700/6700 [==============================] - 0s 22us/step - loss: 3.6504e-05 - val_loss: 3.9553e-05\n",
      "Epoch 88/100\n",
      "6700/6700 [==============================] - 0s 24us/step - loss: 4.4981e-05 - val_loss: 9.8802e-05\n",
      "Epoch 89/100\n",
      "6700/6700 [==============================] - 0s 23us/step - loss: 2.9835e-05 - val_loss: 1.0966e-04\n",
      "Epoch 90/100\n",
      "6700/6700 [==============================] - 0s 23us/step - loss: 4.2493e-05 - val_loss: 3.9500e-05\n",
      "Epoch 91/100\n",
      "6700/6700 [==============================] - 0s 23us/step - loss: 1.9816e-05 - val_loss: 4.1127e-05\n",
      "Epoch 92/100\n",
      "6700/6700 [==============================] - 0s 23us/step - loss: 5.5570e-05 - val_loss: 5.2840e-05\n",
      "Epoch 93/100\n",
      "6700/6700 [==============================] - 0s 22us/step - loss: 3.1197e-05 - val_loss: 4.3631e-05\n",
      "Epoch 94/100\n",
      "6700/6700 [==============================] - 0s 22us/step - loss: 3.4779e-05 - val_loss: 5.5369e-05\n",
      "Epoch 95/100\n",
      "6700/6700 [==============================] - 0s 23us/step - loss: 2.4841e-05 - val_loss: 7.7598e-05\n",
      "Epoch 96/100\n",
      "6700/6700 [==============================] - 0s 24us/step - loss: 2.8025e-05 - val_loss: 3.8177e-05\n",
      "Epoch 97/100\n",
      "6700/6700 [==============================] - 0s 25us/step - loss: 4.1205e-05 - val_loss: 4.2259e-05\n",
      "Epoch 98/100\n",
      "6700/6700 [==============================] - 0s 25us/step - loss: 4.6747e-05 - val_loss: 4.9653e-05\n",
      "Epoch 99/100\n",
      "6700/6700 [==============================] - 0s 23us/step - loss: 2.7804e-05 - val_loss: 6.7565e-05\n",
      "Epoch 100/100\n",
      "6700/6700 [==============================] - 0s 25us/step - loss: 5.6127e-05 - val_loss: 4.0504e-05\n"
     ]
    }
   ],
   "source": [
    "history = model.fit(x=X_train, y=Y_train, batch_size=32, epochs=100, validation_data=(X_test, Y_test))"
   ]
  },
  {
   "cell_type": "code",
   "execution_count": 121,
   "metadata": {},
   "outputs": [
    {
     "name": "stdout",
     "output_type": "stream",
     "text": [
      "MSE :  4.050433846230874e-05\n"
     ]
    }
   ],
   "source": [
    "preds = model.predict(X_test)\n",
    "print('MSE : ', mean_squared_error(preds, Y_test))"
   ]
  },
  {
   "cell_type": "code",
   "execution_count": 125,
   "metadata": {},
   "outputs": [
    {
     "data": {
      "text/plain": [
       "Text(0, 0.5, 'count')"
      ]
     },
     "execution_count": 125,
     "metadata": {},
     "output_type": "execute_result"
    },
    {
     "data": {
      "image/png": "[encoded data removed]",
      "text/plain": [
       "<Figure size 432x288 with 1 Axes>"
      ]
     },
     "metadata": {
      "needs_background": "light"
     },
     "output_type": "display_data"
    }
   ],
   "source": [
    "Y_hist = plt.hist(Y_test, 100, (0,1.1),histtype=\"step\",alpha= 1.0)\n",
    "plt.title(\"Y_test\")\n",
    "pred_hist = plt.hist(preds, 100, (0,1.1),histtype=\"step\",alpha= 1.0)\n",
    "plt.legend([\"real labels\", \"estimated\"], loc='upper left')\n",
    "plt.xlabel(\"magnetization\", fontsize = 14)\n",
    "plt.ylabel(\"count\",  fontsize = 14)"
   ]
  },
  {
   "cell_type": "code",
   "execution_count": 145,
   "metadata": {},
   "outputs": [],
   "source": [
    "trainlabelsE=(trainlabelsE-min(trainlabelsE))/(max(trainlabelsE)-min(trainlabelsE))"
   ]
  },
  {
   "cell_type": "code",
   "execution_count": 153,
   "metadata": {},
   "outputs": [
    {
     "data": {
      "text/plain": [
       "1.0"
      ]
     },
     "execution_count": 153,
     "metadata": {},
     "output_type": "execute_result"
    }
   ],
   "source": [
    "max(trainlabelsE)"
   ]
  },
  {
   "cell_type": "code",
   "execution_count": 154,
   "metadata": {},
   "outputs": [],
   "source": [
    "X_trainE, X_testE, Y_trainE, Y_testE = train_test_split(train_attrs, trainlabelsE, test_size=0.33, random_state=0)"
   ]
  },
  {
   "cell_type": "code",
   "execution_count": 160,
   "metadata": {},
   "outputs": [],
   "source": [
    "model2 = Sequential()\n",
    "model2.add(Dense(100, input_dim=100, activation='relu'))\n",
    "model2.add(Dense(50, activation='relu'))\n",
    "model2.add(Dense(1, activation='relu'))"
   ]
  },
  {
   "cell_type": "code",
   "execution_count": 161,
   "metadata": {},
   "outputs": [],
   "source": [
    "model2.compile(loss='mean_squared_error', optimizer='adam')"
   ]
  },
  {
   "cell_type": "code",
   "execution_count": 162,
   "metadata": {},
   "outputs": [
    {
     "name": "stdout",
     "output_type": "stream",
     "text": [
      "Train on 6700 samples, validate on 3300 samples\n",
      "Epoch 1/100\n",
      "6700/6700 [==============================] - 1s 82us/step - loss: 0.0094 - val_loss: 0.0090\n",
      "Epoch 2/100\n",
      "6700/6700 [==============================] - 0s 18us/step - loss: 0.0105 - val_loss: 0.0074\n",
      "Epoch 3/100\n",
      "6700/6700 [==============================] - 0s 17us/step - loss: 0.0095 - val_loss: 0.0089\n",
      "Epoch 4/100\n",
      "6700/6700 [==============================] - 0s 17us/step - loss: 0.0100 - val_loss: 0.0092\n",
      "Epoch 5/100\n",
      "6700/6700 [==============================] - 0s 16us/step - loss: 0.0097 - val_loss: 0.0089\n",
      "Epoch 6/100\n",
      "6700/6700 [==============================] - 0s 17us/step - loss: 0.0096 - val_loss: 0.0091\n",
      "Epoch 7/100\n",
      "6700/6700 [==============================] - 0s 17us/step - loss: 0.0097 - val_loss: 0.0089\n",
      "Epoch 8/100\n",
      "6700/6700 [==============================] - 0s 17us/step - loss: 0.0097 - val_loss: 0.0092\n",
      "Epoch 9/100\n",
      "6700/6700 [==============================] - 0s 15us/step - loss: 0.0098 - val_loss: 0.0090\n",
      "Epoch 10/100\n",
      "6700/6700 [==============================] - 0s 16us/step - loss: 0.0091 - val_loss: 0.0089\n",
      "Epoch 11/100\n",
      "6700/6700 [==============================] - 0s 15us/step - loss: 0.0093 - val_loss: 0.0088\n",
      "Epoch 12/100\n",
      "6700/6700 [==============================] - 0s 15us/step - loss: 0.0063 - val_loss: 0.0012\n",
      "Epoch 13/100\n",
      "6700/6700 [==============================] - 0s 15us/step - loss: 0.0015 - val_loss: 7.5545e-04\n",
      "Epoch 14/100\n",
      "6700/6700 [==============================] - 0s 15us/step - loss: 0.0010 - val_loss: 6.9252e-04\n",
      "Epoch 15/100\n",
      "6700/6700 [==============================] - 0s 15us/step - loss: 6.2906e-04 - val_loss: 5.5176e-04\n",
      "Epoch 16/100\n",
      "6700/6700 [==============================] - 0s 16us/step - loss: 4.5927e-04 - val_loss: 5.5094e-04\n",
      "Epoch 17/100\n",
      "6700/6700 [==============================] - 0s 15us/step - loss: 3.3547e-04 - val_loss: 4.8892e-04\n",
      "Epoch 18/100\n",
      "6700/6700 [==============================] - 0s 15us/step - loss: 2.8392e-04 - val_loss: 4.5270e-04\n",
      "Epoch 19/100\n",
      "6700/6700 [==============================] - 0s 15us/step - loss: 2.6080e-04 - val_loss: 4.5833e-04\n",
      "Epoch 20/100\n",
      "6700/6700 [==============================] - 0s 16us/step - loss: 2.5111e-04 - val_loss: 4.3447e-04\n",
      "Epoch 21/100\n",
      "6700/6700 [==============================] - 0s 17us/step - loss: 2.2448e-04 - val_loss: 4.4103e-04\n",
      "Epoch 22/100\n",
      "6700/6700 [==============================] - 0s 16us/step - loss: 2.0556e-04 - val_loss: 4.2933e-04\n",
      "Epoch 23/100\n",
      "6700/6700 [==============================] - 0s 16us/step - loss: 2.2052e-04 - val_loss: 5.1419e-04\n",
      "Epoch 24/100\n",
      "6700/6700 [==============================] - 0s 18us/step - loss: 2.2452e-04 - val_loss: 4.0414e-04\n",
      "Epoch 25/100\n",
      "6700/6700 [==============================] - 0s 18us/step - loss: 2.2017e-04 - val_loss: 4.7547e-04\n",
      "Epoch 26/100\n",
      "6700/6700 [==============================] - 0s 16us/step - loss: 2.2498e-04 - val_loss: 3.8460e-04\n",
      "Epoch 27/100\n",
      "6700/6700 [==============================] - 0s 15us/step - loss: 2.3055e-04 - val_loss: 4.9639e-04\n",
      "Epoch 28/100\n",
      "6700/6700 [==============================] - 0s 15us/step - loss: 2.6711e-04 - val_loss: 4.2343e-04\n",
      "Epoch 29/100\n",
      "6700/6700 [==============================] - 0s 15us/step - loss: 2.3805e-04 - val_loss: 3.9542e-04\n",
      "Epoch 30/100\n",
      "6700/6700 [==============================] - 0s 16us/step - loss: 3.0298e-04 - val_loss: 4.0094e-04\n",
      "Epoch 31/100\n",
      "6700/6700 [==============================] - 0s 15us/step - loss: 2.6440e-04 - val_loss: 4.0989e-04\n",
      "Epoch 32/100\n",
      "6700/6700 [==============================] - 0s 15us/step - loss: 2.6506e-04 - val_loss: 4.1327e-04\n",
      "Epoch 33/100\n",
      "6700/6700 [==============================] - 0s 15us/step - loss: 1.8915e-04 - val_loss: 3.7762e-04\n",
      "Epoch 34/100\n",
      "6700/6700 [==============================] - 0s 15us/step - loss: 2.1111e-04 - val_loss: 4.1666e-04\n",
      "Epoch 35/100\n",
      "6700/6700 [==============================] - 0s 18us/step - loss: 2.1523e-04 - val_loss: 4.2575e-04\n",
      "Epoch 36/100\n",
      "6700/6700 [==============================] - 0s 18us/step - loss: 2.1876e-04 - val_loss: 3.8560e-04\n",
      "Epoch 37/100\n",
      "6700/6700 [==============================] - 0s 16us/step - loss: 2.0990e-04 - val_loss: 3.5149e-04\n",
      "Epoch 38/100\n",
      "6700/6700 [==============================] - 0s 16us/step - loss: 2.2510e-04 - val_loss: 4.0713e-04\n",
      "Epoch 39/100\n",
      "6700/6700 [==============================] - 0s 15us/step - loss: 2.7759e-04 - val_loss: 3.5108e-04\n",
      "Epoch 40/100\n",
      "6700/6700 [==============================] - 0s 15us/step - loss: 2.5148e-04 - val_loss: 3.6441e-04\n",
      "Epoch 41/100\n",
      "6700/6700 [==============================] - 0s 17us/step - loss: 3.3376e-04 - val_loss: 3.4608e-04\n",
      "Epoch 42/100\n",
      "6700/6700 [==============================] - 0s 18us/step - loss: 2.8588e-04 - val_loss: 3.1324e-04\n",
      "Epoch 43/100\n",
      "6700/6700 [==============================] - 0s 16us/step - loss: 2.0134e-04 - val_loss: 3.0541e-04\n",
      "Epoch 44/100\n",
      "6700/6700 [==============================] - 0s 16us/step - loss: 1.7826e-04 - val_loss: 2.9672e-04\n",
      "Epoch 45/100\n",
      "6700/6700 [==============================] - 0s 16us/step - loss: 1.5794e-04 - val_loss: 2.9298e-04\n",
      "Epoch 46/100\n",
      "6700/6700 [==============================] - 0s 19us/step - loss: 1.2362e-04 - val_loss: 3.2053e-04\n",
      "Epoch 47/100\n",
      "6700/6700 [==============================] - 0s 17us/step - loss: 1.1335e-04 - val_loss: 2.8504e-04\n",
      "Epoch 48/100\n",
      "6700/6700 [==============================] - 0s 16us/step - loss: 1.1240e-04 - val_loss: 2.9895e-04\n",
      "Epoch 49/100\n",
      "6700/6700 [==============================] - 0s 16us/step - loss: 1.1190e-04 - val_loss: 2.9085e-04\n",
      "Epoch 50/100\n",
      "6700/6700 [==============================] - 0s 18us/step - loss: 1.0612e-04 - val_loss: 2.9828e-04\n",
      "Epoch 51/100\n",
      "6700/6700 [==============================] - 0s 17us/step - loss: 1.3354e-04 - val_loss: 3.2643e-04\n",
      "Epoch 52/100\n",
      "6700/6700 [==============================] - 0s 15us/step - loss: 1.1942e-04 - val_loss: 2.6882e-04\n",
      "Epoch 53/100\n",
      "6700/6700 [==============================] - 0s 15us/step - loss: 1.5285e-04 - val_loss: 3.0364e-04\n",
      "Epoch 54/100\n",
      "6700/6700 [==============================] - 0s 15us/step - loss: 1.5926e-04 - val_loss: 2.7916e-04\n",
      "Epoch 55/100\n",
      "6700/6700 [==============================] - 0s 15us/step - loss: 1.6895e-04 - val_loss: 2.8350e-04\n",
      "Epoch 56/100\n",
      "6700/6700 [==============================] - 0s 14us/step - loss: 2.1591e-04 - val_loss: 2.9074e-04\n",
      "Epoch 57/100\n",
      "6700/6700 [==============================] - 0s 15us/step - loss: 2.2131e-04 - val_loss: 2.8316e-04\n",
      "Epoch 58/100\n",
      "6700/6700 [==============================] - 0s 15us/step - loss: 1.2239e-04 - val_loss: 2.4534e-04\n",
      "Epoch 59/100\n",
      "6700/6700 [==============================] - 0s 15us/step - loss: 1.4152e-04 - val_loss: 2.9019e-04\n",
      "Epoch 60/100\n",
      "6700/6700 [==============================] - 0s 15us/step - loss: 1.5623e-04 - val_loss: 2.5816e-04\n",
      "Epoch 61/100\n",
      "6700/6700 [==============================] - 0s 15us/step - loss: 1.2447e-04 - val_loss: 2.5405e-04\n",
      "Epoch 62/100\n",
      "6700/6700 [==============================] - 0s 16us/step - loss: 1.1393e-04 - val_loss: 2.6260e-04\n",
      "Epoch 63/100\n",
      "6700/6700 [==============================] - 0s 16us/step - loss: 1.1870e-04 - val_loss: 3.4765e-04\n",
      "Epoch 64/100\n",
      "6700/6700 [==============================] - 0s 15us/step - loss: 1.3640e-04 - val_loss: 2.4325e-04\n",
      "Epoch 65/100\n",
      "6700/6700 [==============================] - 0s 15us/step - loss: 1.1465e-04 - val_loss: 2.3780e-04\n",
      "Epoch 66/100\n",
      "6700/6700 [==============================] - 0s 15us/step - loss: 1.1040e-04 - val_loss: 2.7461e-04\n",
      "Epoch 67/100\n",
      "6700/6700 [==============================] - 0s 15us/step - loss: 1.2320e-04 - val_loss: 2.4664e-04\n",
      "Epoch 68/100\n",
      "6700/6700 [==============================] - 0s 16us/step - loss: 1.3218e-04 - val_loss: 2.4993e-04\n",
      "Epoch 69/100\n",
      "6700/6700 [==============================] - 0s 15us/step - loss: 1.2674e-04 - val_loss: 2.6135e-04\n",
      "Epoch 70/100\n",
      "6700/6700 [==============================] - 0s 15us/step - loss: 1.2310e-04 - val_loss: 2.9199e-04\n",
      "Epoch 71/100\n",
      "6700/6700 [==============================] - 0s 16us/step - loss: 1.2553e-04 - val_loss: 2.5324e-04\n",
      "Epoch 72/100\n",
      "6700/6700 [==============================] - 0s 15us/step - loss: 9.0784e-05 - val_loss: 2.2701e-04\n",
      "Epoch 73/100\n",
      "6700/6700 [==============================] - 0s 15us/step - loss: 1.0455e-04 - val_loss: 2.5564e-04\n",
      "Epoch 74/100\n"
     ]
    },
    {
     "name": "stdout",
     "output_type": "stream",
     "text": [
      "6700/6700 [==============================] - 0s 15us/step - loss: 1.0674e-04 - val_loss: 2.3021e-04\n",
      "Epoch 75/100\n",
      "6700/6700 [==============================] - 0s 15us/step - loss: 1.3226e-04 - val_loss: 3.0951e-04\n",
      "Epoch 76/100\n",
      "6700/6700 [==============================] - 0s 15us/step - loss: 9.3432e-05 - val_loss: 2.7257e-04\n",
      "Epoch 77/100\n",
      "6700/6700 [==============================] - 0s 15us/step - loss: 8.2300e-05 - val_loss: 2.3492e-04\n",
      "Epoch 78/100\n",
      "6700/6700 [==============================] - 0s 18us/step - loss: 6.7351e-05 - val_loss: 2.3420e-04\n",
      "Epoch 79/100\n",
      "6700/6700 [==============================] - 0s 18us/step - loss: 7.0664e-05 - val_loss: 2.2806e-04\n",
      "Epoch 80/100\n",
      "6700/6700 [==============================] - 0s 15us/step - loss: 7.1051e-05 - val_loss: 2.2800e-04\n",
      "Epoch 81/100\n",
      "6700/6700 [==============================] - 0s 15us/step - loss: 7.7821e-05 - val_loss: 2.3837e-04\n",
      "Epoch 82/100\n",
      "6700/6700 [==============================] - 0s 17us/step - loss: 7.6138e-05 - val_loss: 2.2694e-04\n",
      "Epoch 83/100\n",
      "6700/6700 [==============================] - 0s 18us/step - loss: 8.9835e-05 - val_loss: 2.9379e-04\n",
      "Epoch 84/100\n",
      "6700/6700 [==============================] - 0s 16us/step - loss: 1.1373e-04 - val_loss: 2.3660e-04\n",
      "Epoch 85/100\n",
      "6700/6700 [==============================] - 0s 14us/step - loss: 1.4650e-04 - val_loss: 3.0196e-04\n",
      "Epoch 86/100\n",
      "6700/6700 [==============================] - 0s 17us/step - loss: 1.3386e-04 - val_loss: 2.0295e-04\n",
      "Epoch 87/100\n",
      "6700/6700 [==============================] - 0s 18us/step - loss: 7.3734e-05 - val_loss: 2.2751e-04\n",
      "Epoch 88/100\n",
      "6700/6700 [==============================] - 0s 16us/step - loss: 6.4350e-05 - val_loss: 2.6713e-04\n",
      "Epoch 89/100\n",
      "6700/6700 [==============================] - 0s 15us/step - loss: 5.8253e-05 - val_loss: 2.1083e-04\n",
      "Epoch 90/100\n",
      "6700/6700 [==============================] - 0s 15us/step - loss: 4.7856e-05 - val_loss: 2.3516e-04\n",
      "Epoch 91/100\n",
      "6700/6700 [==============================] - 0s 15us/step - loss: 4.7491e-05 - val_loss: 2.3422e-04\n",
      "Epoch 92/100\n",
      "6700/6700 [==============================] - 0s 15us/step - loss: 4.6728e-05 - val_loss: 1.9595e-04\n",
      "Epoch 93/100\n",
      "6700/6700 [==============================] - 0s 16us/step - loss: 4.8041e-05 - val_loss: 2.3064e-04\n",
      "Epoch 94/100\n",
      "6700/6700 [==============================] - 0s 19us/step - loss: 5.7827e-05 - val_loss: 2.3389e-04\n",
      "Epoch 95/100\n",
      "6700/6700 [==============================] - 0s 17us/step - loss: 6.5566e-05 - val_loss: 2.0515e-04\n",
      "Epoch 96/100\n",
      "6700/6700 [==============================] - 0s 15us/step - loss: 7.9426e-05 - val_loss: 2.1732e-04\n",
      "Epoch 97/100\n",
      "6700/6700 [==============================] - 0s 15us/step - loss: 9.7711e-05 - val_loss: 1.9141e-04\n",
      "Epoch 98/100\n",
      "6700/6700 [==============================] - 0s 15us/step - loss: 8.7287e-05 - val_loss: 2.5921e-04\n",
      "Epoch 99/100\n",
      "6700/6700 [==============================] - 0s 15us/step - loss: 1.0740e-04 - val_loss: 2.3790e-04\n",
      "Epoch 100/100\n",
      "6700/6700 [==============================] - 0s 15us/step - loss: 6.9818e-05 - val_loss: 1.8921e-04\n"
     ]
    }
   ],
   "source": [
    "history = model2.fit(x=X_trainE, y=Y_trainE, batch_size=64, epochs=100, validation_data=(X_testE, Y_testE))"
   ]
  },
  {
   "cell_type": "code",
   "execution_count": 163,
   "metadata": {},
   "outputs": [
    {
     "name": "stdout",
     "output_type": "stream",
     "text": [
      "MSE :  0.00018921456126465614\n"
     ]
    }
   ],
   "source": [
    "predsE = model2.predict(X_testE)\n",
    "print('MSE : ', mean_squared_error(predsE, Y_testE))"
   ]
  },
  {
   "cell_type": "code",
   "execution_count": 164,
   "metadata": {},
   "outputs": [
    {
     "data": {
      "text/plain": [
       "Text(0, 0.5, 'count')"
      ]
     },
     "execution_count": 164,
     "metadata": {},
     "output_type": "execute_result"
    },
    {
     "data": {
      "image/png": "[encoded data removed]",
      "text/plain": [
       "<Figure size 432x288 with 1 Axes>"
      ]
     },
     "metadata": {
      "needs_background": "light"
     },
     "output_type": "display_data"
    }
   ],
   "source": [
    "Y_hist = plt.hist(Y_testE, 30, (0,1.1),histtype=\"step\",alpha= 1.0)\n",
    "plt.title(\"Y_test\")\n",
    "pred_hist = plt.hist(predsE, 30, (0,1.1),histtype=\"step\",alpha= 1.0)\n",
    "plt.legend([\"real labels\", \"estimated\"])\n",
    "plt.xlabel(\"energy\", fontsize = 14)\n",
    "plt.ylabel(\"count\",  fontsize = 14)"
   ]
  },
  {
   "cell_type": "markdown",
   "metadata": {},
   "source": [
    "# Defining a model"
   ]
  },
  {
   "cell_type": "code",
   "execution_count": null,
   "metadata": {},
   "outputs": [],
   "source": []
  }
 ],
 "metadata": {
  "colab": {
   "collapsed_sections": [],
   "name": "nagyhf_begin.ipynb",
   "provenance": [],
   "toc_visible": true,
   "version": "0.3.2"
  },
  "kernelspec": {
   "display_name": "Python 3",
   "language": "python",
   "name": "python3"
  },
  "language_info": {
   "codemirror_mode": {
    "name": "ipython",
    "version": 3
   },
   "file_extension": ".py",
   "mimetype": "text/x-python",
   "name": "python",
   "nbconvert_exporter": "python",
   "pygments_lexer": "ipython3",
   "version": "3.7.0"
  }
 },
 "nbformat": 4,
 "nbformat_minor": 1
}
